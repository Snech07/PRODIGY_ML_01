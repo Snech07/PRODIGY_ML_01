{
 "cells": [
  {
   "cell_type": "code",
   "execution_count": 1,
   "metadata": {
    "_kg_hide-input": true,
    "execution": {
     "iopub.execute_input": "2023-01-23T16:48:09.287923Z",
     "iopub.status.busy": "2023-01-23T16:48:09.287400Z",
     "iopub.status.idle": "2023-01-23T16:48:09.325182Z",
     "shell.execute_reply": "2023-01-23T16:48:09.323868Z",
     "shell.execute_reply.started": "2023-01-23T16:48:09.287816Z"
    }
   },
   "outputs": [],
   "source": [
    "\n",
    "import numpy as np \n",
    "import pandas as pd \n"
   ]
  },
  {
   "cell_type": "code",
   "execution_count": 2,
   "metadata": {
    "execution": {
     "iopub.execute_input": "2023-01-23T16:48:09.327564Z",
     "iopub.status.busy": "2023-01-23T16:48:09.327183Z",
     "iopub.status.idle": "2023-01-23T16:48:12.552651Z",
     "shell.execute_reply": "2023-01-23T16:48:12.551169Z",
     "shell.execute_reply.started": "2023-01-23T16:48:09.327520Z"
    }
   },
   "outputs": [],
   "source": [
    "import pandas as pd\n",
    "import numpy as np\n",
    "import matplotlib.pyplot as plt\n",
    "import seaborn as sns\n",
    "import plotly.express as px\n",
    "from sklearn.metrics import accuracy_score, confusion_matrix, classification_report\n",
    "from sklearn.tree import DecisionTreeClassifier\n",
    "from sklearn.metrics import r2_score\n",
    "from sklearn.metrics import mean_absolute_error, mean_squared_error\n",
    "from sklearn.model_selection import GridSearchCV"
   ]
  },
  {
   "cell_type": "code",
   "execution_count": 3,
   "metadata": {
    "execution": {
     "iopub.execute_input": "2023-01-23T17:38:57.828187Z",
     "iopub.status.busy": "2023-01-23T17:38:57.827740Z",
     "iopub.status.idle": "2023-01-23T17:38:57.852058Z",
     "shell.execute_reply": "2023-01-23T17:38:57.850700Z",
     "shell.execute_reply.started": "2023-01-23T17:38:57.828153Z"
    }
   },
   "outputs": [],
   "source": [
    "df = pd.read_csv(r\"C:\\Users\\Sneha\\Downloads\\archive (12)\\train.csv\", sep = ',')\n",
    "df_test = pd.read_csv(r\"C:\\Users\\Sneha\\Downloads\\archive (12)\\test.csv\", sep = ',')"
   ]
  },
  {
   "cell_type": "code",
   "execution_count": 4,
   "metadata": {
    "execution": {
     "iopub.execute_input": "2023-01-23T17:38:58.751986Z",
     "iopub.status.busy": "2023-01-23T17:38:58.751518Z",
     "iopub.status.idle": "2023-01-23T17:38:58.769939Z",
     "shell.execute_reply": "2023-01-23T17:38:58.768676Z",
     "shell.execute_reply.started": "2023-01-23T17:38:58.751948Z"
    }
   },
   "outputs": [
    {
     "data": {
      "text/html": [
       "<div>\n",
       "<style scoped>\n",
       "    .dataframe tbody tr th:only-of-type {\n",
       "        vertical-align: middle;\n",
       "    }\n",
       "\n",
       "    .dataframe tbody tr th {\n",
       "        vertical-align: top;\n",
       "    }\n",
       "\n",
       "    .dataframe thead th {\n",
       "        text-align: right;\n",
       "    }\n",
       "</style>\n",
       "<table border=\"1\" class=\"dataframe\">\n",
       "  <thead>\n",
       "    <tr style=\"text-align: right;\">\n",
       "      <th></th>\n",
       "      <th>beds</th>\n",
       "      <th>baths</th>\n",
       "      <th>size</th>\n",
       "      <th>size_units</th>\n",
       "      <th>lot_size</th>\n",
       "      <th>lot_size_units</th>\n",
       "      <th>zip_code</th>\n",
       "      <th>price</th>\n",
       "    </tr>\n",
       "  </thead>\n",
       "  <tbody>\n",
       "    <tr>\n",
       "      <th>0</th>\n",
       "      <td>3</td>\n",
       "      <td>2.5</td>\n",
       "      <td>2590.0</td>\n",
       "      <td>sqft</td>\n",
       "      <td>6000.00</td>\n",
       "      <td>sqft</td>\n",
       "      <td>98144</td>\n",
       "      <td>795000.0</td>\n",
       "    </tr>\n",
       "    <tr>\n",
       "      <th>1</th>\n",
       "      <td>4</td>\n",
       "      <td>2.0</td>\n",
       "      <td>2240.0</td>\n",
       "      <td>sqft</td>\n",
       "      <td>0.31</td>\n",
       "      <td>acre</td>\n",
       "      <td>98106</td>\n",
       "      <td>915000.0</td>\n",
       "    </tr>\n",
       "    <tr>\n",
       "      <th>2</th>\n",
       "      <td>4</td>\n",
       "      <td>3.0</td>\n",
       "      <td>2040.0</td>\n",
       "      <td>sqft</td>\n",
       "      <td>3783.00</td>\n",
       "      <td>sqft</td>\n",
       "      <td>98107</td>\n",
       "      <td>950000.0</td>\n",
       "    </tr>\n",
       "    <tr>\n",
       "      <th>3</th>\n",
       "      <td>4</td>\n",
       "      <td>3.0</td>\n",
       "      <td>3800.0</td>\n",
       "      <td>sqft</td>\n",
       "      <td>5175.00</td>\n",
       "      <td>sqft</td>\n",
       "      <td>98199</td>\n",
       "      <td>1950000.0</td>\n",
       "    </tr>\n",
       "    <tr>\n",
       "      <th>4</th>\n",
       "      <td>2</td>\n",
       "      <td>2.0</td>\n",
       "      <td>1042.0</td>\n",
       "      <td>sqft</td>\n",
       "      <td>NaN</td>\n",
       "      <td>NaN</td>\n",
       "      <td>98102</td>\n",
       "      <td>950000.0</td>\n",
       "    </tr>\n",
       "  </tbody>\n",
       "</table>\n",
       "</div>"
      ],
      "text/plain": [
       "   beds  baths    size size_units  lot_size lot_size_units  zip_code  \\\n",
       "0     3    2.5  2590.0       sqft   6000.00           sqft     98144   \n",
       "1     4    2.0  2240.0       sqft      0.31           acre     98106   \n",
       "2     4    3.0  2040.0       sqft   3783.00           sqft     98107   \n",
       "3     4    3.0  3800.0       sqft   5175.00           sqft     98199   \n",
       "4     2    2.0  1042.0       sqft       NaN            NaN     98102   \n",
       "\n",
       "       price  \n",
       "0   795000.0  \n",
       "1   915000.0  \n",
       "2   950000.0  \n",
       "3  1950000.0  \n",
       "4   950000.0  "
      ]
     },
     "execution_count": 4,
     "metadata": {},
     "output_type": "execute_result"
    }
   ],
   "source": [
    "df.head(5)"
   ]
  },
  {
   "cell_type": "code",
   "execution_count": 5,
   "metadata": {
    "execution": {
     "iopub.execute_input": "2023-01-23T17:38:59.023327Z",
     "iopub.status.busy": "2023-01-23T17:38:59.022249Z",
     "iopub.status.idle": "2023-01-23T17:38:59.031523Z",
     "shell.execute_reply": "2023-01-23T17:38:59.030687Z",
     "shell.execute_reply.started": "2023-01-23T17:38:59.023284Z"
    }
   },
   "outputs": [
    {
     "data": {
      "text/plain": [
       "beds                int64\n",
       "baths             float64\n",
       "size              float64\n",
       "size_units         object\n",
       "lot_size          float64\n",
       "lot_size_units     object\n",
       "zip_code            int64\n",
       "price             float64\n",
       "dtype: object"
      ]
     },
     "execution_count": 5,
     "metadata": {},
     "output_type": "execute_result"
    }
   ],
   "source": [
    "df.dtypes"
   ]
  },
  {
   "cell_type": "code",
   "execution_count": 6,
   "metadata": {
    "execution": {
     "iopub.execute_input": "2023-01-23T17:38:59.149754Z",
     "iopub.status.busy": "2023-01-23T17:38:59.148538Z",
     "iopub.status.idle": "2023-01-23T17:38:59.167458Z",
     "shell.execute_reply": "2023-01-23T17:38:59.166025Z",
     "shell.execute_reply.started": "2023-01-23T17:38:59.149711Z"
    }
   },
   "outputs": [
    {
     "name": "stdout",
     "output_type": "stream",
     "text": [
      "<class 'pandas.core.frame.DataFrame'>\n",
      "RangeIndex: 2016 entries, 0 to 2015\n",
      "Data columns (total 8 columns):\n",
      " #   Column          Non-Null Count  Dtype  \n",
      "---  ------          --------------  -----  \n",
      " 0   beds            2016 non-null   int64  \n",
      " 1   baths           2016 non-null   float64\n",
      " 2   size            2016 non-null   float64\n",
      " 3   size_units      2016 non-null   object \n",
      " 4   lot_size        1669 non-null   float64\n",
      " 5   lot_size_units  1669 non-null   object \n",
      " 6   zip_code        2016 non-null   int64  \n",
      " 7   price           2016 non-null   float64\n",
      "dtypes: float64(4), int64(2), object(2)\n",
      "memory usage: 126.1+ KB\n"
     ]
    }
   ],
   "source": [
    "df.info()"
   ]
  },
  {
   "cell_type": "code",
   "execution_count": 7,
   "metadata": {
    "execution": {
     "iopub.execute_input": "2023-01-23T17:38:59.405396Z",
     "iopub.status.busy": "2023-01-23T17:38:59.404627Z",
     "iopub.status.idle": "2023-01-23T17:38:59.436948Z",
     "shell.execute_reply": "2023-01-23T17:38:59.435806Z",
     "shell.execute_reply.started": "2023-01-23T17:38:59.405356Z"
    }
   },
   "outputs": [
    {
     "data": {
      "text/html": [
       "<div>\n",
       "<style scoped>\n",
       "    .dataframe tbody tr th:only-of-type {\n",
       "        vertical-align: middle;\n",
       "    }\n",
       "\n",
       "    .dataframe tbody tr th {\n",
       "        vertical-align: top;\n",
       "    }\n",
       "\n",
       "    .dataframe thead th {\n",
       "        text-align: right;\n",
       "    }\n",
       "</style>\n",
       "<table border=\"1\" class=\"dataframe\">\n",
       "  <thead>\n",
       "    <tr style=\"text-align: right;\">\n",
       "      <th></th>\n",
       "      <th>beds</th>\n",
       "      <th>baths</th>\n",
       "      <th>size</th>\n",
       "      <th>lot_size</th>\n",
       "      <th>zip_code</th>\n",
       "      <th>price</th>\n",
       "    </tr>\n",
       "  </thead>\n",
       "  <tbody>\n",
       "    <tr>\n",
       "      <th>count</th>\n",
       "      <td>2016.000000</td>\n",
       "      <td>2016.000000</td>\n",
       "      <td>2016.000000</td>\n",
       "      <td>1669.000000</td>\n",
       "      <td>2016.000000</td>\n",
       "      <td>2.016000e+03</td>\n",
       "    </tr>\n",
       "    <tr>\n",
       "      <th>mean</th>\n",
       "      <td>2.857639</td>\n",
       "      <td>2.159970</td>\n",
       "      <td>1735.740575</td>\n",
       "      <td>3871.059694</td>\n",
       "      <td>98123.638889</td>\n",
       "      <td>9.636252e+05</td>\n",
       "    </tr>\n",
       "    <tr>\n",
       "      <th>std</th>\n",
       "      <td>1.255092</td>\n",
       "      <td>1.002023</td>\n",
       "      <td>920.132591</td>\n",
       "      <td>2719.402066</td>\n",
       "      <td>22.650819</td>\n",
       "      <td>9.440954e+05</td>\n",
       "    </tr>\n",
       "    <tr>\n",
       "      <th>min</th>\n",
       "      <td>1.000000</td>\n",
       "      <td>0.500000</td>\n",
       "      <td>250.000000</td>\n",
       "      <td>0.230000</td>\n",
       "      <td>98101.000000</td>\n",
       "      <td>1.590000e+05</td>\n",
       "    </tr>\n",
       "    <tr>\n",
       "      <th>25%</th>\n",
       "      <td>2.000000</td>\n",
       "      <td>1.500000</td>\n",
       "      <td>1068.750000</td>\n",
       "      <td>1252.000000</td>\n",
       "      <td>98108.000000</td>\n",
       "      <td>6.017500e+05</td>\n",
       "    </tr>\n",
       "    <tr>\n",
       "      <th>50%</th>\n",
       "      <td>3.000000</td>\n",
       "      <td>2.000000</td>\n",
       "      <td>1560.000000</td>\n",
       "      <td>4000.000000</td>\n",
       "      <td>98117.000000</td>\n",
       "      <td>8.000000e+05</td>\n",
       "    </tr>\n",
       "    <tr>\n",
       "      <th>75%</th>\n",
       "      <td>4.000000</td>\n",
       "      <td>2.500000</td>\n",
       "      <td>2222.500000</td>\n",
       "      <td>6000.000000</td>\n",
       "      <td>98126.000000</td>\n",
       "      <td>1.105250e+06</td>\n",
       "    </tr>\n",
       "    <tr>\n",
       "      <th>max</th>\n",
       "      <td>15.000000</td>\n",
       "      <td>9.000000</td>\n",
       "      <td>11010.000000</td>\n",
       "      <td>9998.000000</td>\n",
       "      <td>98199.000000</td>\n",
       "      <td>2.500000e+07</td>\n",
       "    </tr>\n",
       "  </tbody>\n",
       "</table>\n",
       "</div>"
      ],
      "text/plain": [
       "              beds        baths          size     lot_size      zip_code  \\\n",
       "count  2016.000000  2016.000000   2016.000000  1669.000000   2016.000000   \n",
       "mean      2.857639     2.159970   1735.740575  3871.059694  98123.638889   \n",
       "std       1.255092     1.002023    920.132591  2719.402066     22.650819   \n",
       "min       1.000000     0.500000    250.000000     0.230000  98101.000000   \n",
       "25%       2.000000     1.500000   1068.750000  1252.000000  98108.000000   \n",
       "50%       3.000000     2.000000   1560.000000  4000.000000  98117.000000   \n",
       "75%       4.000000     2.500000   2222.500000  6000.000000  98126.000000   \n",
       "max      15.000000     9.000000  11010.000000  9998.000000  98199.000000   \n",
       "\n",
       "              price  \n",
       "count  2.016000e+03  \n",
       "mean   9.636252e+05  \n",
       "std    9.440954e+05  \n",
       "min    1.590000e+05  \n",
       "25%    6.017500e+05  \n",
       "50%    8.000000e+05  \n",
       "75%    1.105250e+06  \n",
       "max    2.500000e+07  "
      ]
     },
     "execution_count": 7,
     "metadata": {},
     "output_type": "execute_result"
    }
   ],
   "source": [
    "df.describe()"
   ]
  },
  {
   "cell_type": "code",
   "execution_count": 8,
   "metadata": {
    "execution": {
     "iopub.execute_input": "2023-01-23T17:39:00.286067Z",
     "iopub.status.busy": "2023-01-23T17:39:00.285616Z",
     "iopub.status.idle": "2023-01-23T17:39:00.297813Z",
     "shell.execute_reply": "2023-01-23T17:39:00.296514Z",
     "shell.execute_reply.started": "2023-01-23T17:39:00.286027Z"
    }
   },
   "outputs": [
    {
     "data": {
      "text/plain": [
       "beds              0.000000\n",
       "baths             0.000000\n",
       "size              0.000000\n",
       "size_units        0.000000\n",
       "lot_size          0.172123\n",
       "lot_size_units    0.172123\n",
       "zip_code          0.000000\n",
       "price             0.000000\n",
       "dtype: float64"
      ]
     },
     "execution_count": 8,
     "metadata": {},
     "output_type": "execute_result"
    }
   ],
   "source": [
    "(df.isnull().sum()/len(df))"
   ]
  },
  {
   "cell_type": "code",
   "execution_count": 9,
   "metadata": {
    "execution": {
     "iopub.execute_input": "2023-01-23T17:39:01.038365Z",
     "iopub.status.busy": "2023-01-23T17:39:01.037958Z",
     "iopub.status.idle": "2023-01-23T17:39:01.046346Z",
     "shell.execute_reply": "2023-01-23T17:39:01.045087Z",
     "shell.execute_reply.started": "2023-01-23T17:39:01.038334Z"
    }
   },
   "outputs": [],
   "source": [
    "df = df.dropna()"
   ]
  },
  {
   "cell_type": "code",
   "execution_count": 10,
   "metadata": {
    "execution": {
     "iopub.execute_input": "2023-01-23T17:39:01.370768Z",
     "iopub.status.busy": "2023-01-23T17:39:01.370322Z",
     "iopub.status.idle": "2023-01-23T17:39:01.382225Z",
     "shell.execute_reply": "2023-01-23T17:39:01.380996Z",
     "shell.execute_reply.started": "2023-01-23T17:39:01.370729Z"
    }
   },
   "outputs": [
    {
     "data": {
      "text/plain": [
       "beds              0.0\n",
       "baths             0.0\n",
       "size              0.0\n",
       "size_units        0.0\n",
       "lot_size          0.0\n",
       "lot_size_units    0.0\n",
       "zip_code          0.0\n",
       "price             0.0\n",
       "dtype: float64"
      ]
     },
     "execution_count": 10,
     "metadata": {},
     "output_type": "execute_result"
    }
   ],
   "source": [
    "(df.isnull().sum()/len(df))"
   ]
  },
  {
   "cell_type": "code",
   "execution_count": 11,
   "metadata": {
    "execution": {
     "iopub.execute_input": "2023-01-23T17:39:02.040709Z",
     "iopub.status.busy": "2023-01-23T17:39:02.040255Z",
     "iopub.status.idle": "2023-01-23T17:39:02.047397Z",
     "shell.execute_reply": "2023-01-23T17:39:02.046167Z",
     "shell.execute_reply.started": "2023-01-23T17:39:02.040662Z"
    }
   },
   "outputs": [],
   "source": [
    "df = df.drop('size_units', axis = 1)"
   ]
  },
  {
   "cell_type": "code",
   "execution_count": 12,
   "metadata": {
    "_kg_hide-input": true,
    "execution": {
     "iopub.execute_input": "2023-01-23T17:17:59.908389Z",
     "iopub.status.busy": "2023-01-23T17:17:59.907977Z",
     "iopub.status.idle": "2023-01-23T17:18:00.264030Z",
     "shell.execute_reply": "2023-01-23T17:18:00.262499Z",
     "shell.execute_reply.started": "2023-01-23T17:17:59.908348Z"
    }
   },
   "outputs": [
    {
     "data": {
      "text/plain": [
       "<AxesSubplot:>"
      ]
     },
     "execution_count": 12,
     "metadata": {},
     "output_type": "execute_result"
    },
    {
     "data": {
      "image/png": "[encoded data removed]",
      "text/plain": [
       "<Figure size 1080x720 with 2 Axes>"
      ]
     },
     "metadata": {
      "needs_background": "light"
     },
     "output_type": "display_data"
    }
   ],
   "source": [
    "correl = df.corr().round(2)\n",
    "plt.figure(figsize = (15,10))\n",
    "sns.heatmap(correl, annot = True, cmap = 'YlOrBr')"
   ]
  },
  {
   "cell_type": "code",
   "execution_count": 13,
   "metadata": {
    "_kg_hide-input": true,
    "execution": {
     "iopub.execute_input": "2023-01-23T17:49:24.187704Z",
     "iopub.status.busy": "2023-01-23T17:49:24.187280Z",
     "iopub.status.idle": "2023-01-23T17:49:25.773656Z",
     "shell.execute_reply": "2023-01-23T17:49:25.772368Z",
     "shell.execute_reply.started": "2023-01-23T17:49:24.187668Z"
    }
   },
   "outputs": [
    {
     "data": {
      "text/plain": [
       "<AxesSubplot:xlabel='price', ylabel='Count'>"
      ]
     },
     "execution_count": 13,
     "metadata": {},
     "output_type": "execute_result"
    },
    {
     "data": {
      "image/png": "[encoded data removed]",
      "text/plain": [
       "<Figure size 1800x1440 with 5 Axes>"
      ]
     },
     "metadata": {
      "needs_background": "light"
     },
     "output_type": "display_data"
    }
   ],
   "source": [
    "plt.figure(figsize = (25,20))\n",
    "sns.set(color_codes = True)\n",
    "\n",
    "plt.subplot(3,2,1)\n",
    "sns.histplot(df['beds'], kde = False)\n",
    "\n",
    "plt.subplot(3,2,2)\n",
    "sns.histplot(df['baths'], kde = False)\n",
    "\n",
    "plt.subplot(3,2,3)\n",
    "sns.histplot(df['lot_size'], kde = False)\n",
    "\n",
    "plt.subplot(3,2,4)\n",
    "sns.histplot(df['lot_size_units'], kde = False)\n",
    "\n",
    "plt.subplot(3,2,5)\n",
    "sns.histplot(df['price'], kde = False)"
   ]
  },
  {
   "cell_type": "code",
   "execution_count": 14,
   "metadata": {
    "_kg_hide-input": true,
    "execution": {
     "iopub.execute_input": "2023-01-23T16:48:39.197914Z",
     "iopub.status.busy": "2023-01-23T16:48:39.197469Z",
     "iopub.status.idle": "2023-01-23T16:48:39.432471Z",
     "shell.execute_reply": "2023-01-23T16:48:39.431415Z",
     "shell.execute_reply.started": "2023-01-23T16:48:39.197880Z"
    }
   },
   "outputs": [
    {
     "data": {
      "text/plain": [
       "<AxesSubplot:title={'center':'Boxplot Beds'}, xlabel='beds'>"
      ]
     },
     "execution_count": 14,
     "metadata": {},
     "output_type": "execute_result"
    },
    {
     "data": {
      "image/png": "[encoded data removed]",
      "text/plain": [
       "<Figure size 432x288 with 1 Axes>"
      ]
     },
     "metadata": {},
     "output_type": "display_data"
    }
   ],
   "source": [
    "plt.title(\"Boxplot Beds\", fontdict = {'fontsize': 20})\n",
    "sns.boxplot(x=df[\"beds\"])"
   ]
  },
  {
   "cell_type": "code",
   "execution_count": 15,
   "metadata": {
    "execution": {
     "iopub.execute_input": "2023-01-23T17:39:18.712803Z",
     "iopub.status.busy": "2023-01-23T17:39:18.712348Z",
     "iopub.status.idle": "2023-01-23T17:39:18.720403Z",
     "shell.execute_reply": "2023-01-23T17:39:18.718964Z",
     "shell.execute_reply.started": "2023-01-23T17:39:18.712768Z"
    }
   },
   "outputs": [],
   "source": [
    "df = df[df['beds'] < 10]"
   ]
  },
  {
   "cell_type": "code",
   "execution_count": 16,
   "metadata": {
    "_kg_hide-input": true,
    "execution": {
     "iopub.execute_input": "2023-01-23T16:48:42.657820Z",
     "iopub.status.busy": "2023-01-23T16:48:42.657332Z",
     "iopub.status.idle": "2023-01-23T16:48:42.826155Z",
     "shell.execute_reply": "2023-01-23T16:48:42.825325Z",
     "shell.execute_reply.started": "2023-01-23T16:48:42.657782Z"
    }
   },
   "outputs": [
    {
     "data": {
      "text/plain": [
       "<AxesSubplot:title={'center':'Boxplot Beds Without Outliers'}, xlabel='beds'>"
      ]
     },
     "execution_count": 16,
     "metadata": {},
     "output_type": "execute_result"
    },
    {
     "data": {
      "image/png": "[encoded data removed]",
      "text/plain": [
       "<Figure size 432x288 with 1 Axes>"
      ]
     },
     "metadata": {},
     "output_type": "display_data"
    }
   ],
   "source": [
    "plt.title(\"Boxplot Beds Without Outliers\", fontdict = {'fontsize': 20})\n",
    "sns.boxplot(x=df[\"beds\"])"
   ]
  },
  {
   "cell_type": "code",
   "execution_count": 17,
   "metadata": {
    "_kg_hide-input": true,
    "execution": {
     "iopub.execute_input": "2023-01-23T16:48:43.575337Z",
     "iopub.status.busy": "2023-01-23T16:48:43.574937Z",
     "iopub.status.idle": "2023-01-23T16:48:43.926496Z",
     "shell.execute_reply": "2023-01-23T16:48:43.925009Z",
     "shell.execute_reply.started": "2023-01-23T16:48:43.575305Z"
    }
   },
   "outputs": [
    {
     "data": {
      "text/plain": [
       "<AxesSubplot:title={'center':'Boxplot Baths'}, xlabel='baths'>"
      ]
     },
     "execution_count": 17,
     "metadata": {},
     "output_type": "execute_result"
    },
    {
     "data": {
      "image/png": "[encoded data removed]",
      "text/plain": [
       "<Figure size 432x288 with 1 Axes>"
      ]
     },
     "metadata": {},
     "output_type": "display_data"
    }
   ],
   "source": [
    "plt.title(\"Boxplot Baths\", fontdict = {'fontsize': 20})\n",
    "sns.boxplot(x=df[\"baths\"])"
   ]
  },
  {
   "cell_type": "code",
   "execution_count": 18,
   "metadata": {
    "_kg_hide-input": true,
    "execution": {
     "iopub.execute_input": "2023-01-23T16:48:44.637715Z",
     "iopub.status.busy": "2023-01-23T16:48:44.637282Z",
     "iopub.status.idle": "2023-01-23T16:48:44.859632Z",
     "shell.execute_reply": "2023-01-23T16:48:44.858265Z",
     "shell.execute_reply.started": "2023-01-23T16:48:44.637676Z"
    }
   },
   "outputs": [
    {
     "data": {
      "text/plain": [
       "<AxesSubplot:title={'center':'Boxplot Price'}, xlabel='price'>"
      ]
     },
     "execution_count": 18,
     "metadata": {},
     "output_type": "execute_result"
    },
    {
     "data": {
      "image/png": "[encoded data removed]",
      "text/plain": [
       "<Figure size 432x288 with 1 Axes>"
      ]
     },
     "metadata": {},
     "output_type": "display_data"
    }
   ],
   "source": [
    "plt.title(\"Boxplot Price\", fontdict = {'fontsize': 20})\n",
    "sns.boxplot(x=df[\"price\"])"
   ]
  },
  {
   "cell_type": "code",
   "execution_count": 19,
   "metadata": {
    "execution": {
     "iopub.execute_input": "2023-01-23T17:39:26.982140Z",
     "iopub.status.busy": "2023-01-23T17:39:26.981733Z",
     "iopub.status.idle": "2023-01-23T17:39:26.989276Z",
     "shell.execute_reply": "2023-01-23T17:39:26.988096Z",
     "shell.execute_reply.started": "2023-01-23T17:39:26.982110Z"
    }
   },
   "outputs": [],
   "source": [
    "df = df[df['price'] < 5000000]"
   ]
  },
  {
   "cell_type": "code",
   "execution_count": 20,
   "metadata": {
    "execution": {
     "iopub.execute_input": "2023-01-23T16:48:46.459749Z",
     "iopub.status.busy": "2023-01-23T16:48:46.459317Z",
     "iopub.status.idle": "2023-01-23T16:48:46.695598Z",
     "shell.execute_reply": "2023-01-23T16:48:46.694322Z",
     "shell.execute_reply.started": "2023-01-23T16:48:46.459714Z"
    }
   },
   "outputs": [
    {
     "data": {
      "text/plain": [
       "<AxesSubplot:title={'center':'Boxplot Price After Outlier'}, xlabel='price'>"
      ]
     },
     "execution_count": 20,
     "metadata": {},
     "output_type": "execute_result"
    },
    {
     "data": {
      "image/png": "[encoded data removed]",
      "text/plain": [
       "<Figure size 432x288 with 1 Axes>"
      ]
     },
     "metadata": {},
     "output_type": "display_data"
    }
   ],
   "source": [
    "plt.title(\"Boxplot Price After Outlier\", fontdict = {'fontsize': 20})\n",
    "sns.boxplot(x=df[\"price\"])"
   ]
  },
  {
   "cell_type": "code",
   "execution_count": 21,
   "metadata": {
    "_kg_hide-input": true,
    "execution": {
     "iopub.execute_input": "2023-01-23T17:06:21.632159Z",
     "iopub.status.busy": "2023-01-23T17:06:21.631060Z",
     "iopub.status.idle": "2023-01-23T17:06:22.077724Z",
     "shell.execute_reply": "2023-01-23T17:06:22.076620Z",
     "shell.execute_reply.started": "2023-01-23T17:06:21.632119Z"
    }
   },
   "outputs": [
    {
     "data": {
      "text/plain": [
       "<seaborn.axisgrid.FacetGrid at 0x241d5113b50>"
      ]
     },
     "execution_count": 21,
     "metadata": {},
     "output_type": "execute_result"
    },
    {
     "data": {
      "image/png": "[encoded data removed]",
      "text/plain": [
       "<Figure size 360x360 with 1 Axes>"
      ]
     },
     "metadata": {},
     "output_type": "display_data"
    }
   ],
   "source": [
    "sns.catplot(x = \"beds\", y = \"price\", palette = \"Set2\", data = df).set(title='Bed x Price')"
   ]
  },
  {
   "cell_type": "code",
   "execution_count": 22,
   "metadata": {
    "_kg_hide-input": true,
    "execution": {
     "iopub.execute_input": "2023-01-23T17:59:06.637570Z",
     "iopub.status.busy": "2023-01-23T17:59:06.637172Z",
     "iopub.status.idle": "2023-01-23T17:59:07.199571Z",
     "shell.execute_reply": "2023-01-23T17:59:07.198475Z",
     "shell.execute_reply.started": "2023-01-23T17:59:06.637540Z"
    }
   },
   "outputs": [
    {
     "data": {
      "text/plain": [
       "<seaborn.axisgrid.FacetGrid at 0x241d529bf10>"
      ]
     },
     "execution_count": 22,
     "metadata": {},
     "output_type": "execute_result"
    },
    {
     "data": {
      "image/png": "[encoded data removed]",
      "text/plain": [
       "<Figure size 691.2x230.4 with 1 Axes>"
      ]
     },
     "metadata": {},
     "output_type": "display_data"
    }
   ],
   "source": [
    "sns.catplot(x = \"baths\", y = \"price\", palette = \"Set2\", data = df, height=3.2, aspect=3).set(title='Baths x Price')"
   ]
  },
  {
   "cell_type": "code",
   "execution_count": 23,
   "metadata": {
    "_kg_hide-input": true,
    "execution": {
     "iopub.execute_input": "2023-01-23T17:58:47.181541Z",
     "iopub.status.busy": "2023-01-23T17:58:47.180315Z",
     "iopub.status.idle": "2023-01-23T17:58:47.981217Z",
     "shell.execute_reply": "2023-01-23T17:58:47.980080Z",
     "shell.execute_reply.started": "2023-01-23T17:58:47.181500Z"
    }
   },
   "outputs": [
    {
     "data": {
      "text/plain": [
       "<seaborn.axisgrid.FacetGrid at 0x241d53475e0>"
      ]
     },
     "execution_count": 23,
     "metadata": {},
     "output_type": "execute_result"
    },
    {
     "data": {
      "image/png": "[encoded data removed]",
      "text/plain": [
       "<Figure size 691.2x230.4 with 1 Axes>"
      ]
     },
     "metadata": {},
     "output_type": "display_data"
    }
   ],
   "source": [
    "sns.catplot(x = \"zip_code\", y = \"price\", palette = \"Set2\", data = df, height=3.2, aspect=3).set(title='Zip_Code x Price')"
   ]
  },
  {
   "cell_type": "code",
   "execution_count": 24,
   "metadata": {
    "execution": {
     "iopub.execute_input": "2023-01-23T17:07:57.816116Z",
     "iopub.status.busy": "2023-01-23T17:07:57.815695Z",
     "iopub.status.idle": "2023-01-23T17:07:58.270388Z",
     "shell.execute_reply": "2023-01-23T17:07:58.269175Z",
     "shell.execute_reply.started": "2023-01-23T17:07:57.816082Z"
    }
   },
   "outputs": [
    {
     "data": {
      "text/plain": [
       "<seaborn.axisgrid.FacetGrid at 0x241d53832b0>"
      ]
     },
     "execution_count": 24,
     "metadata": {},
     "output_type": "execute_result"
    },
    {
     "data": {
      "image/png": "[encoded data removed]",
      "text/plain": [
       "<Figure size 360x360 with 1 Axes>"
      ]
     },
     "metadata": {},
     "output_type": "display_data"
    }
   ],
   "source": [
    "sns.relplot(x='size', y = 'price' , data = df).set(title='Size x Price')"
   ]
  },
  {
   "cell_type": "code",
   "execution_count": 25,
   "metadata": {
    "_kg_hide-input": true,
    "execution": {
     "iopub.execute_input": "2023-01-23T17:08:33.611895Z",
     "iopub.status.busy": "2023-01-23T17:08:33.611477Z",
     "iopub.status.idle": "2023-01-23T17:08:33.997045Z",
     "shell.execute_reply": "2023-01-23T17:08:33.995716Z",
     "shell.execute_reply.started": "2023-01-23T17:08:33.611864Z"
    }
   },
   "outputs": [
    {
     "data": {
      "text/plain": [
       "<seaborn.axisgrid.FacetGrid at 0x241d54a29a0>"
      ]
     },
     "execution_count": 25,
     "metadata": {},
     "output_type": "execute_result"
    },
    {
     "data": {
      "image/png": "[encoded data removed]",
      "text/plain": [
       "<Figure size 360x360 with 1 Axes>"
      ]
     },
     "metadata": {},
     "output_type": "display_data"
    }
   ],
   "source": [
    "sns.relplot(x='lot_size', y = 'price' , data = df).set(title='Price x lot_size')"
   ]
  },
  {
   "cell_type": "code",
   "execution_count": 26,
   "metadata": {
    "_kg_hide-input": true,
    "execution": {
     "iopub.execute_input": "2023-01-23T17:10:58.465605Z",
     "iopub.status.busy": "2023-01-23T17:10:58.465179Z",
     "iopub.status.idle": "2023-01-23T17:10:58.912033Z",
     "shell.execute_reply": "2023-01-23T17:10:58.910798Z",
     "shell.execute_reply.started": "2023-01-23T17:10:58.465554Z"
    }
   },
   "outputs": [
    {
     "data": {
      "text/plain": [
       "<seaborn.axisgrid.FacetGrid at 0x241d553de80>"
      ]
     },
     "execution_count": 26,
     "metadata": {},
     "output_type": "execute_result"
    },
    {
     "data": {
      "image/png": "[encoded data removed]",
      "text/plain": [
       "<Figure size 360x360 with 1 Axes>"
      ]
     },
     "metadata": {},
     "output_type": "display_data"
    }
   ],
   "source": [
    "sns.catplot(x = \"beds\", y = \"size\", palette = \"Set2\", data = df).set(title='Bed x Size')"
   ]
  },
  {
   "cell_type": "code",
   "execution_count": 27,
   "metadata": {
    "_kg_hide-input": true,
    "execution": {
     "iopub.execute_input": "2023-01-23T17:11:12.247610Z",
     "iopub.status.busy": "2023-01-23T17:11:12.247199Z",
     "iopub.status.idle": "2023-01-23T17:11:12.695525Z",
     "shell.execute_reply": "2023-01-23T17:11:12.694199Z",
     "shell.execute_reply.started": "2023-01-23T17:11:12.247559Z"
    }
   },
   "outputs": [
    {
     "data": {
      "text/plain": [
       "<seaborn.axisgrid.FacetGrid at 0x241d5325460>"
      ]
     },
     "execution_count": 27,
     "metadata": {},
     "output_type": "execute_result"
    },
    {
     "data": {
      "image/png": "[encoded data removed]",
      "text/plain": [
       "<Figure size 360x360 with 1 Axes>"
      ]
     },
     "metadata": {},
     "output_type": "display_data"
    }
   ],
   "source": [
    "sns.catplot(x = \"beds\", y = \"baths\", palette = \"Set2\", data = df).set(title='Bed x baths')"
   ]
  },
  {
   "cell_type": "code",
   "execution_count": 28,
   "metadata": {
    "_kg_hide-input": true,
    "execution": {
     "iopub.execute_input": "2023-01-23T17:12:30.088623Z",
     "iopub.status.busy": "2023-01-23T17:12:30.088161Z",
     "iopub.status.idle": "2023-01-23T17:12:30.441785Z",
     "shell.execute_reply": "2023-01-23T17:12:30.440453Z",
     "shell.execute_reply.started": "2023-01-23T17:12:30.088570Z"
    }
   },
   "outputs": [
    {
     "data": {
      "text/plain": [
       "<seaborn.axisgrid.FacetGrid at 0x241d5607070>"
      ]
     },
     "execution_count": 28,
     "metadata": {},
     "output_type": "execute_result"
    },
    {
     "data": {
      "image/png": "[encoded data removed]",
      "text/plain": [
       "<Figure size 360x360 with 1 Axes>"
      ]
     },
     "metadata": {},
     "output_type": "display_data"
    }
   ],
   "source": [
    "sns.relplot(x='size', y = 'lot_size' , data = df).set(title='Size x lot_size')"
   ]
  },
  {
   "cell_type": "code",
   "execution_count": 29,
   "metadata": {
    "execution": {
     "iopub.execute_input": "2023-01-23T17:39:40.788929Z",
     "iopub.status.busy": "2023-01-23T17:39:40.787506Z",
     "iopub.status.idle": "2023-01-23T17:39:40.796116Z",
     "shell.execute_reply": "2023-01-23T17:39:40.794832Z",
     "shell.execute_reply.started": "2023-01-23T17:39:40.788870Z"
    }
   },
   "outputs": [],
   "source": [
    "X = df.drop('price', axis = 1)"
   ]
  },
  {
   "cell_type": "code",
   "execution_count": 30,
   "metadata": {
    "execution": {
     "iopub.execute_input": "2023-01-23T17:39:41.062408Z",
     "iopub.status.busy": "2023-01-23T17:39:41.061479Z",
     "iopub.status.idle": "2023-01-23T17:39:41.068229Z",
     "shell.execute_reply": "2023-01-23T17:39:41.066946Z",
     "shell.execute_reply.started": "2023-01-23T17:39:41.062361Z"
    }
   },
   "outputs": [],
   "source": [
    "X = X.values"
   ]
  },
  {
   "cell_type": "code",
   "execution_count": 31,
   "metadata": {
    "execution": {
     "iopub.execute_input": "2023-01-23T17:39:41.349373Z",
     "iopub.status.busy": "2023-01-23T17:39:41.348904Z",
     "iopub.status.idle": "2023-01-23T17:39:41.354538Z",
     "shell.execute_reply": "2023-01-23T17:39:41.353531Z",
     "shell.execute_reply.started": "2023-01-23T17:39:41.349333Z"
    }
   },
   "outputs": [],
   "source": [
    "y = df['price']"
   ]
  },
  {
   "cell_type": "code",
   "execution_count": 32,
   "metadata": {
    "execution": {
     "iopub.execute_input": "2023-01-23T17:39:42.540642Z",
     "iopub.status.busy": "2023-01-23T17:39:42.539927Z",
     "iopub.status.idle": "2023-01-23T17:39:42.545660Z",
     "shell.execute_reply": "2023-01-23T17:39:42.544430Z",
     "shell.execute_reply.started": "2023-01-23T17:39:42.540602Z"
    }
   },
   "outputs": [],
   "source": [
    "from sklearn.preprocessing import LabelEncoder"
   ]
  },
  {
   "cell_type": "code",
   "execution_count": 33,
   "metadata": {
    "execution": {
     "iopub.execute_input": "2023-01-23T17:40:17.911316Z",
     "iopub.status.busy": "2023-01-23T17:40:17.910231Z",
     "iopub.status.idle": "2023-01-23T17:40:17.917449Z",
     "shell.execute_reply": "2023-01-23T17:40:17.915875Z",
     "shell.execute_reply.started": "2023-01-23T17:40:17.911251Z"
    }
   },
   "outputs": [],
   "source": [
    "label_encoder_lot_size_units = LabelEncoder()\n",
    "label_encoder_zip_code = LabelEncoder()"
   ]
  },
  {
   "cell_type": "code",
   "execution_count": 34,
   "metadata": {
    "execution": {
     "iopub.execute_input": "2023-01-23T17:40:18.244952Z",
     "iopub.status.busy": "2023-01-23T17:40:18.244520Z",
     "iopub.status.idle": "2023-01-23T17:40:18.252124Z",
     "shell.execute_reply": "2023-01-23T17:40:18.250791Z",
     "shell.execute_reply.started": "2023-01-23T17:40:18.244918Z"
    }
   },
   "outputs": [],
   "source": [
    "X[:,4] = label_encoder_lot_size_units.fit_transform(X[:,4])\n",
    "X[:,5] = label_encoder_zip_code.fit_transform(X[:,5])"
   ]
  },
  {
   "cell_type": "code",
   "execution_count": 35,
   "metadata": {
    "execution": {
     "iopub.execute_input": "2023-01-23T17:40:19.338067Z",
     "iopub.status.busy": "2023-01-23T17:40:19.337652Z",
     "iopub.status.idle": "2023-01-23T17:40:19.347669Z",
     "shell.execute_reply": "2023-01-23T17:40:19.346141Z",
     "shell.execute_reply.started": "2023-01-23T17:40:19.338032Z"
    }
   },
   "outputs": [],
   "source": [
    "from sklearn.preprocessing import StandardScaler\n",
    "scaler = StandardScaler()\n",
    "X_standard = scaler.fit_transform(X)\n",
    "y_standard = scaler.fit_transform(y.values.reshape(-1,1))"
   ]
  },
  {
   "cell_type": "code",
   "execution_count": 36,
   "metadata": {
    "execution": {
     "iopub.execute_input": "2023-01-23T17:40:20.152994Z",
     "iopub.status.busy": "2023-01-23T17:40:20.152569Z",
     "iopub.status.idle": "2023-01-23T17:40:20.159613Z",
     "shell.execute_reply": "2023-01-23T17:40:20.158162Z",
     "shell.execute_reply.started": "2023-01-23T17:40:20.152962Z"
    }
   },
   "outputs": [],
   "source": [
    "from sklearn.model_selection import train_test_split"
   ]
  },
  {
   "cell_type": "code",
   "execution_count": 37,
   "metadata": {
    "execution": {
     "iopub.execute_input": "2023-01-23T18:15:54.998752Z",
     "iopub.status.busy": "2023-01-23T18:15:54.998280Z",
     "iopub.status.idle": "2023-01-23T18:15:55.007783Z",
     "shell.execute_reply": "2023-01-23T18:15:55.006105Z",
     "shell.execute_reply.started": "2023-01-23T18:15:54.998713Z"
    }
   },
   "outputs": [],
   "source": [
    "X_train, X_test, y_train, y_test = train_test_split(X_standard, y_standard, test_size = 0.3, random_state = 0)"
   ]
  },
  {
   "cell_type": "code",
   "execution_count": 38,
   "metadata": {
    "execution": {
     "iopub.execute_input": "2023-01-23T18:16:05.380049Z",
     "iopub.status.busy": "2023-01-23T18:16:05.379631Z",
     "iopub.status.idle": "2023-01-23T18:16:05.388385Z",
     "shell.execute_reply": "2023-01-23T18:16:05.387067Z",
     "shell.execute_reply.started": "2023-01-23T18:16:05.380014Z"
    }
   },
   "outputs": [
    {
     "data": {
      "text/plain": [
       "((1163, 6), (1163, 1))"
      ]
     },
     "execution_count": 38,
     "metadata": {},
     "output_type": "execute_result"
    }
   ],
   "source": [
    "X_train.shape, y_train.shape"
   ]
  },
  {
   "cell_type": "code",
   "execution_count": 39,
   "metadata": {
    "execution": {
     "iopub.execute_input": "2023-01-23T18:16:06.097804Z",
     "iopub.status.busy": "2023-01-23T18:16:06.097348Z",
     "iopub.status.idle": "2023-01-23T18:16:06.104393Z",
     "shell.execute_reply": "2023-01-23T18:16:06.103342Z",
     "shell.execute_reply.started": "2023-01-23T18:16:06.097765Z"
    }
   },
   "outputs": [
    {
     "data": {
      "text/plain": [
       "((499, 6), (499, 1))"
      ]
     },
     "execution_count": 39,
     "metadata": {},
     "output_type": "execute_result"
    }
   ],
   "source": [
    "X_test.shape, y_test.shape"
   ]
  },
  {
   "cell_type": "code",
   "execution_count": 40,
   "metadata": {
    "execution": {
     "iopub.execute_input": "2023-01-23T18:04:27.621357Z",
     "iopub.status.busy": "2023-01-23T18:04:27.620193Z",
     "iopub.status.idle": "2023-01-23T18:04:27.626611Z",
     "shell.execute_reply": "2023-01-23T18:04:27.625448Z",
     "shell.execute_reply.started": "2023-01-23T18:04:27.621316Z"
    }
   },
   "outputs": [],
   "source": [
    "from sklearn.linear_model import LinearRegression\n",
    "lr_model = LinearRegression()"
   ]
  },
  {
   "cell_type": "code",
   "execution_count": 41,
   "metadata": {
    "execution": {
     "iopub.execute_input": "2023-01-23T18:04:28.415026Z",
     "iopub.status.busy": "2023-01-23T18:04:28.414512Z",
     "iopub.status.idle": "2023-01-23T18:04:28.425221Z",
     "shell.execute_reply": "2023-01-23T18:04:28.423819Z",
     "shell.execute_reply.started": "2023-01-23T18:04:28.414987Z"
    }
   },
   "outputs": [
    {
     "data": {
      "text/plain": [
       "LinearRegression()"
      ]
     },
     "execution_count": 41,
     "metadata": {},
     "output_type": "execute_result"
    }
   ],
   "source": [
    "lr_model.fit(X_train, y_train)"
   ]
  },
  {
   "cell_type": "code",
   "execution_count": 42,
   "metadata": {
    "execution": {
     "iopub.execute_input": "2023-01-23T18:04:29.088206Z",
     "iopub.status.busy": "2023-01-23T18:04:29.087259Z",
     "iopub.status.idle": "2023-01-23T18:04:29.094643Z",
     "shell.execute_reply": "2023-01-23T18:04:29.093580Z",
     "shell.execute_reply.started": "2023-01-23T18:04:29.088157Z"
    }
   },
   "outputs": [],
   "source": [
    "lr_normal_score_train = lr_model.score(X_train, y_train)"
   ]
  },
  {
   "cell_type": "code",
   "execution_count": 43,
   "metadata": {
    "execution": {
     "iopub.execute_input": "2023-01-23T18:04:29.688230Z",
     "iopub.status.busy": "2023-01-23T18:04:29.687504Z",
     "iopub.status.idle": "2023-01-23T18:04:29.696396Z",
     "shell.execute_reply": "2023-01-23T18:04:29.695279Z",
     "shell.execute_reply.started": "2023-01-23T18:04:29.688189Z"
    }
   },
   "outputs": [
    {
     "data": {
      "text/plain": [
       "0.6003350048655648"
      ]
     },
     "execution_count": 43,
     "metadata": {},
     "output_type": "execute_result"
    }
   ],
   "source": [
    "lr_normal_score_train"
   ]
  },
  {
   "cell_type": "code",
   "execution_count": 44,
   "metadata": {
    "execution": {
     "iopub.execute_input": "2023-01-23T18:04:30.388858Z",
     "iopub.status.busy": "2023-01-23T18:04:30.388394Z",
     "iopub.status.idle": "2023-01-23T18:04:30.395493Z",
     "shell.execute_reply": "2023-01-23T18:04:30.394643Z",
     "shell.execute_reply.started": "2023-01-23T18:04:30.388822Z"
    }
   },
   "outputs": [],
   "source": [
    "lr_normal_score_test = lr_model.score(X_test, y_test)"
   ]
  },
  {
   "cell_type": "code",
   "execution_count": 45,
   "metadata": {
    "execution": {
     "iopub.execute_input": "2023-01-23T18:04:31.238099Z",
     "iopub.status.busy": "2023-01-23T18:04:31.237437Z",
     "iopub.status.idle": "2023-01-23T18:04:31.244302Z",
     "shell.execute_reply": "2023-01-23T18:04:31.243170Z",
     "shell.execute_reply.started": "2023-01-23T18:04:31.238063Z"
    }
   },
   "outputs": [
    {
     "data": {
      "text/plain": [
       "0.6431858188414716"
      ]
     },
     "execution_count": 45,
     "metadata": {},
     "output_type": "execute_result"
    }
   ],
   "source": [
    "lr_normal_score_test"
   ]
  },
  {
   "cell_type": "code",
   "execution_count": 46,
   "metadata": {
    "execution": {
     "iopub.execute_input": "2023-01-23T18:04:32.128211Z",
     "iopub.status.busy": "2023-01-23T18:04:32.127774Z",
     "iopub.status.idle": "2023-01-23T18:04:32.133578Z",
     "shell.execute_reply": "2023-01-23T18:04:32.132664Z",
     "shell.execute_reply.started": "2023-01-23T18:04:32.128176Z"
    }
   },
   "outputs": [],
   "source": [
    "previsoes = lr_model.predict(X_test)"
   ]
  },
  {
   "cell_type": "code",
   "execution_count": 47,
   "metadata": {
    "execution": {
     "iopub.execute_input": "2023-01-23T18:04:32.476777Z",
     "iopub.status.busy": "2023-01-23T18:04:32.475622Z",
     "iopub.status.idle": "2023-01-23T18:04:32.482754Z",
     "shell.execute_reply": "2023-01-23T18:04:32.481273Z",
     "shell.execute_reply.started": "2023-01-23T18:04:32.476731Z"
    }
   },
   "outputs": [],
   "source": [
    "mae_lr_normal = mean_absolute_error(y_test, previsoes)"
   ]
  },
  {
   "cell_type": "code",
   "execution_count": 48,
   "metadata": {
    "execution": {
     "iopub.execute_input": "2023-01-23T18:04:33.237873Z",
     "iopub.status.busy": "2023-01-23T18:04:33.237379Z",
     "iopub.status.idle": "2023-01-23T18:04:33.245316Z",
     "shell.execute_reply": "2023-01-23T18:04:33.243888Z",
     "shell.execute_reply.started": "2023-01-23T18:04:33.237831Z"
    }
   },
   "outputs": [
    {
     "data": {
      "text/plain": [
       "0.4020685550560499"
      ]
     },
     "execution_count": 48,
     "metadata": {},
     "output_type": "execute_result"
    }
   ],
   "source": [
    "mae_lr_normal"
   ]
  },
  {
   "cell_type": "code",
   "execution_count": 49,
   "metadata": {
    "execution": {
     "iopub.execute_input": "2023-01-23T18:04:33.881816Z",
     "iopub.status.busy": "2023-01-23T18:04:33.881332Z",
     "iopub.status.idle": "2023-01-23T18:04:33.888734Z",
     "shell.execute_reply": "2023-01-23T18:04:33.887391Z",
     "shell.execute_reply.started": "2023-01-23T18:04:33.881768Z"
    }
   },
   "outputs": [],
   "source": [
    "rmse_lr_normal = np.sqrt(mean_squared_error(y_test, previsoes))"
   ]
  },
  {
   "cell_type": "code",
   "execution_count": 50,
   "metadata": {
    "execution": {
     "iopub.execute_input": "2023-01-23T18:04:34.430764Z",
     "iopub.status.busy": "2023-01-23T18:04:34.430348Z",
     "iopub.status.idle": "2023-01-23T18:04:34.439014Z",
     "shell.execute_reply": "2023-01-23T18:04:34.437816Z",
     "shell.execute_reply.started": "2023-01-23T18:04:34.430730Z"
    }
   },
   "outputs": [
    {
     "data": {
      "text/plain": [
       "0.608361812456157"
      ]
     },
     "execution_count": 50,
     "metadata": {},
     "output_type": "execute_result"
    }
   ],
   "source": [
    "rmse_lr_normal"
   ]
  },
  {
   "cell_type": "code",
   "execution_count": 51,
   "metadata": {
    "execution": {
     "iopub.execute_input": "2023-01-23T17:40:43.215809Z",
     "iopub.status.busy": "2023-01-23T17:40:43.215375Z",
     "iopub.status.idle": "2023-01-23T17:40:43.222304Z",
     "shell.execute_reply": "2023-01-23T17:40:43.220573Z",
     "shell.execute_reply.started": "2023-01-23T17:40:43.215772Z"
    }
   },
   "outputs": [],
   "source": [
    "from sklearn.tree import DecisionTreeRegressor"
   ]
  },
  {
   "cell_type": "code",
   "execution_count": 52,
   "metadata": {
    "execution": {
     "iopub.execute_input": "2023-01-23T17:40:44.520852Z",
     "iopub.status.busy": "2023-01-23T17:40:44.520350Z",
     "iopub.status.idle": "2023-01-23T17:40:44.529073Z",
     "shell.execute_reply": "2023-01-23T17:40:44.527454Z",
     "shell.execute_reply.started": "2023-01-23T17:40:44.520813Z"
    }
   },
   "outputs": [],
   "source": [
    "min_split = np.array([2, 3, 4, 5, 6, 7])\n",
    "max_nvl = np.array([3, 4, 5, 6, 7, 9, 11])\n",
    "alg = ['squared_error', 'friedman_mse', 'absolute_error', 'poisson']\n",
    "values_grid = {'min_samples_split': min_split, 'max_depth': max_nvl, 'criterion': alg}"
   ]
  },
  {
   "cell_type": "code",
   "execution_count": 53,
   "metadata": {
    "execution": {
     "iopub.execute_input": "2023-01-23T17:40:45.729149Z",
     "iopub.status.busy": "2023-01-23T17:40:45.728693Z",
     "iopub.status.idle": "2023-01-23T17:40:45.735237Z",
     "shell.execute_reply": "2023-01-23T17:40:45.734098Z",
     "shell.execute_reply.started": "2023-01-23T17:40:45.729110Z"
    }
   },
   "outputs": [],
   "source": [
    "model = DecisionTreeRegressor()"
   ]
  },
  {
   "cell_type": "code",
   "execution_count": 54,
   "metadata": {
    "execution": {
     "iopub.execute_input": "2023-01-23T17:40:46.046717Z",
     "iopub.status.busy": "2023-01-23T17:40:46.045840Z",
     "iopub.status.idle": "2023-01-23T17:40:46.051760Z",
     "shell.execute_reply": "2023-01-23T17:40:46.050702Z",
     "shell.execute_reply.started": "2023-01-23T17:40:46.046677Z"
    }
   },
   "outputs": [],
   "source": [
    "gridDecisionTree = GridSearchCV(estimator = model, param_grid = values_grid, cv = 5, n_jobs = -1)"
   ]
  },
  {
   "cell_type": "code",
   "execution_count": 55,
   "metadata": {
    "execution": {
     "iopub.execute_input": "2023-01-23T17:40:46.801061Z",
     "iopub.status.busy": "2023-01-23T17:40:46.800659Z",
     "iopub.status.idle": "2023-01-23T17:40:50.452133Z",
     "shell.execute_reply": "2023-01-23T17:40:50.450776Z",
     "shell.execute_reply.started": "2023-01-23T17:40:46.801030Z"
    }
   },
   "outputs": [
    {
     "name": "stderr",
     "output_type": "stream",
     "text": [
      "C:\\Users\\Sneha\\anaconda3\\lib\\site-packages\\sklearn\\model_selection\\_validation.py:372: FitFailedWarning: \n",
      "210 fits failed out of a total of 840.\n",
      "The score on these train-test partitions for these parameters will be set to nan.\n",
      "If these failures are not expected, you can try to debug them by setting error_score='raise'.\n",
      "\n",
      "Below are more details about the failures:\n",
      "--------------------------------------------------------------------------------\n",
      "210 fits failed with the following error:\n",
      "Traceback (most recent call last):\n",
      "  File \"C:\\Users\\Sneha\\anaconda3\\lib\\site-packages\\sklearn\\model_selection\\_validation.py\", line 680, in _fit_and_score\n",
      "    estimator.fit(X_train, y_train, **fit_params)\n",
      "  File \"C:\\Users\\Sneha\\anaconda3\\lib\\site-packages\\sklearn\\tree\\_classes.py\", line 1315, in fit\n",
      "    super().fit(\n",
      "  File \"C:\\Users\\Sneha\\anaconda3\\lib\\site-packages\\sklearn\\tree\\_classes.py\", line 178, in fit\n",
      "    raise ValueError(\n",
      "ValueError: Some value(s) of y are negative which is not allowed for Poisson regression.\n",
      "\n",
      "  warnings.warn(some_fits_failed_message, FitFailedWarning)\n",
      "C:\\Users\\Sneha\\anaconda3\\lib\\site-packages\\sklearn\\model_selection\\_search.py:969: UserWarning: One or more of the test scores are non-finite: [0.50748372 0.50748372 0.50748372 0.50748372 0.50748372 0.50748372\n",
      " 0.49719771 0.4908202  0.4908202  0.4908202  0.49374842 0.50722754\n",
      " 0.49333193 0.49024657 0.49683223 0.48952005 0.49018467 0.50534033\n",
      " 0.51047873 0.4778618  0.48028334 0.49776732 0.49381359 0.51175545\n",
      " 0.47312025 0.47596699 0.48032721 0.48357197 0.48973755 0.50691578\n",
      " 0.45998599 0.43646218 0.43634791 0.46766593 0.47637761 0.4890272\n",
      " 0.3692356  0.42583618 0.4169434  0.42128383 0.44043316 0.45011074\n",
      " 0.50748372 0.50748372 0.50748372 0.50748372 0.50748372 0.50748372\n",
      " 0.49719771 0.49374842 0.4908202  0.49374842 0.49374842 0.50722754\n",
      " 0.48838691 0.49183499 0.49683223 0.49446507 0.49708444 0.5083306\n",
      " 0.47591417 0.50226208 0.47876655 0.50416095 0.50708499 0.51863323\n",
      " 0.4744271  0.48069343 0.49079889 0.49133022 0.4974958  0.51467403\n",
      " 0.41887992 0.44807001 0.44493241 0.46899641 0.46999058 0.4890272\n",
      " 0.38385047 0.41119567 0.41478329 0.42549048 0.44002678 0.45864801\n",
      " 0.49947428 0.49947428 0.49947428 0.49947428 0.48652908 0.49947428\n",
      " 0.50531939 0.49783819 0.50531939 0.50531939 0.50532652 0.50532652\n",
      " 0.52891464 0.52519258 0.52539315 0.52286712 0.52546936 0.52561381\n",
      " 0.51541886 0.51424013 0.51304258 0.51249581 0.50760373 0.50911991\n",
      " 0.51199485 0.50586198 0.51038946 0.50594464 0.50380253 0.50803848\n",
      " 0.47608161 0.46846724 0.48094225 0.48051424 0.48934507 0.49178291\n",
      " 0.42293529 0.42627603 0.43889046 0.45439436 0.46893674 0.4702149\n",
      "        nan        nan        nan        nan        nan        nan\n",
      "        nan        nan        nan        nan        nan        nan\n",
      "        nan        nan        nan        nan        nan        nan\n",
      "        nan        nan        nan        nan        nan        nan\n",
      "        nan        nan        nan        nan        nan        nan\n",
      "        nan        nan        nan        nan        nan        nan\n",
      "        nan        nan        nan        nan        nan        nan]\n",
      "  warnings.warn(\n"
     ]
    },
    {
     "data": {
      "text/plain": [
       "GridSearchCV(cv=5, estimator=DecisionTreeRegressor(), n_jobs=-1,\n",
       "             param_grid={'criterion': ['squared_error', 'friedman_mse',\n",
       "                                       'absolute_error', 'poisson'],\n",
       "                         'max_depth': array([ 3,  4,  5,  6,  7,  9, 11]),\n",
       "                         'min_samples_split': array([2, 3, 4, 5, 6, 7])})"
      ]
     },
     "execution_count": 55,
     "metadata": {},
     "output_type": "execute_result"
    }
   ],
   "source": [
    "gridDecisionTree.fit(X_train, y_train)"
   ]
  },
  {
   "cell_type": "code",
   "execution_count": 56,
   "metadata": {
    "execution": {
     "iopub.execute_input": "2023-01-23T17:40:50.455421Z",
     "iopub.status.busy": "2023-01-23T17:40:50.455061Z",
     "iopub.status.idle": "2023-01-23T17:40:50.462392Z",
     "shell.execute_reply": "2023-01-23T17:40:50.461104Z",
     "shell.execute_reply.started": "2023-01-23T17:40:50.455390Z"
    }
   },
   "outputs": [
    {
     "name": "stdout",
     "output_type": "stream",
     "text": [
      "Mín Split:  2\n",
      "Max Nvl:  5\n",
      "Algorithm:  absolute_error\n",
      "Score:  0.5289146436025218\n"
     ]
    }
   ],
   "source": [
    "print('Mín Split: ', gridDecisionTree.best_estimator_.min_samples_split)\n",
    "print('Max Nvl: ', gridDecisionTree.best_estimator_.max_depth)\n",
    "print('Algorithm: ', gridDecisionTree.best_estimator_.criterion)\n",
    "print('Score: ', gridDecisionTree.best_score_)"
   ]
  },
  {
   "cell_type": "code",
   "execution_count": 57,
   "metadata": {
    "execution": {
     "iopub.execute_input": "2023-01-23T18:08:57.481895Z",
     "iopub.status.busy": "2023-01-23T18:08:57.480467Z",
     "iopub.status.idle": "2023-01-23T18:08:57.488095Z",
     "shell.execute_reply": "2023-01-23T18:08:57.486335Z",
     "shell.execute_reply.started": "2023-01-23T18:08:57.481849Z"
    }
   },
   "outputs": [],
   "source": [
    "decision_tree = DecisionTreeRegressor(min_samples_split = 2, max_depth =5, criterion = 'absolute_error')"
   ]
  },
  {
   "cell_type": "code",
   "execution_count": 58,
   "metadata": {
    "execution": {
     "iopub.execute_input": "2023-01-23T18:09:05.038465Z",
     "iopub.status.busy": "2023-01-23T18:09:05.038013Z",
     "iopub.status.idle": "2023-01-23T18:09:05.077004Z",
     "shell.execute_reply": "2023-01-23T18:09:05.075672Z",
     "shell.execute_reply.started": "2023-01-23T18:09:05.038428Z"
    }
   },
   "outputs": [
    {
     "data": {
      "text/plain": [
       "DecisionTreeRegressor(criterion='absolute_error', max_depth=5)"
      ]
     },
     "execution_count": 58,
     "metadata": {},
     "output_type": "execute_result"
    }
   ],
   "source": [
    "decision_tree.fit(X_train, y_train)"
   ]
  },
  {
   "cell_type": "code",
   "execution_count": 59,
   "metadata": {
    "execution": {
     "iopub.execute_input": "2023-01-23T18:09:17.848808Z",
     "iopub.status.busy": "2023-01-23T18:09:17.848366Z",
     "iopub.status.idle": "2023-01-23T18:09:17.855551Z",
     "shell.execute_reply": "2023-01-23T18:09:17.854265Z",
     "shell.execute_reply.started": "2023-01-23T18:09:17.848773Z"
    }
   },
   "outputs": [],
   "source": [
    "lr_normal_decision_tree = decision_tree.score(X_train, y_train)"
   ]
  },
  {
   "cell_type": "code",
   "execution_count": 60,
   "metadata": {
    "execution": {
     "iopub.execute_input": "2023-01-23T18:09:20.969256Z",
     "iopub.status.busy": "2023-01-23T18:09:20.967954Z",
     "iopub.status.idle": "2023-01-23T18:09:20.977267Z",
     "shell.execute_reply": "2023-01-23T18:09:20.975846Z",
     "shell.execute_reply.started": "2023-01-23T18:09:20.969207Z"
    }
   },
   "outputs": [
    {
     "data": {
      "text/plain": [
       "0.6773980013063587"
      ]
     },
     "execution_count": 60,
     "metadata": {},
     "output_type": "execute_result"
    }
   ],
   "source": [
    "lr_normal_decision_tree"
   ]
  },
  {
   "cell_type": "code",
   "execution_count": 61,
   "metadata": {
    "execution": {
     "iopub.execute_input": "2023-01-23T18:09:29.619749Z",
     "iopub.status.busy": "2023-01-23T18:09:29.619301Z",
     "iopub.status.idle": "2023-01-23T18:09:29.626923Z",
     "shell.execute_reply": "2023-01-23T18:09:29.625538Z",
     "shell.execute_reply.started": "2023-01-23T18:09:29.619696Z"
    }
   },
   "outputs": [],
   "source": [
    "lr_normal_decision_tree_test = decision_tree.score(X_test, y_test)"
   ]
  },
  {
   "cell_type": "code",
   "execution_count": 62,
   "metadata": {
    "execution": {
     "iopub.execute_input": "2023-01-23T18:09:32.300405Z",
     "iopub.status.busy": "2023-01-23T18:09:32.300001Z",
     "iopub.status.idle": "2023-01-23T18:09:32.308678Z",
     "shell.execute_reply": "2023-01-23T18:09:32.307089Z",
     "shell.execute_reply.started": "2023-01-23T18:09:32.300372Z"
    }
   },
   "outputs": [
    {
     "data": {
      "text/plain": [
       "0.6252883155221488"
      ]
     },
     "execution_count": 62,
     "metadata": {},
     "output_type": "execute_result"
    }
   ],
   "source": [
    "lr_normal_decision_tree_test"
   ]
  },
  {
   "cell_type": "code",
   "execution_count": 63,
   "metadata": {
    "execution": {
     "iopub.execute_input": "2023-01-23T18:11:18.688531Z",
     "iopub.status.busy": "2023-01-23T18:11:18.688095Z",
     "iopub.status.idle": "2023-01-23T18:11:18.695033Z",
     "shell.execute_reply": "2023-01-23T18:11:18.693610Z",
     "shell.execute_reply.started": "2023-01-23T18:11:18.688500Z"
    }
   },
   "outputs": [],
   "source": [
    "previsoes = decision_tree.predict(X_test)"
   ]
  },
  {
   "cell_type": "code",
   "execution_count": 64,
   "metadata": {
    "execution": {
     "iopub.execute_input": "2023-01-23T18:11:27.047122Z",
     "iopub.status.busy": "2023-01-23T18:11:27.046680Z",
     "iopub.status.idle": "2023-01-23T18:11:27.053582Z",
     "shell.execute_reply": "2023-01-23T18:11:27.052345Z",
     "shell.execute_reply.started": "2023-01-23T18:11:27.047085Z"
    }
   },
   "outputs": [],
   "source": [
    "mae_lr_normal_decision_tree  = mean_absolute_error(y_test, previsoes)"
   ]
  },
  {
   "cell_type": "code",
   "execution_count": 65,
   "metadata": {
    "execution": {
     "iopub.execute_input": "2023-01-23T18:11:29.284832Z",
     "iopub.status.busy": "2023-01-23T18:11:29.284421Z",
     "iopub.status.idle": "2023-01-23T18:11:29.291782Z",
     "shell.execute_reply": "2023-01-23T18:11:29.290540Z",
     "shell.execute_reply.started": "2023-01-23T18:11:29.284798Z"
    }
   },
   "outputs": [
    {
     "data": {
      "text/plain": [
       "0.3964719053101687"
      ]
     },
     "execution_count": 65,
     "metadata": {},
     "output_type": "execute_result"
    }
   ],
   "source": [
    "mae_lr_normal_decision_tree"
   ]
  },
  {
   "cell_type": "code",
   "execution_count": 66,
   "metadata": {
    "execution": {
     "iopub.execute_input": "2023-01-23T18:11:37.410797Z",
     "iopub.status.busy": "2023-01-23T18:11:37.410352Z",
     "iopub.status.idle": "2023-01-23T18:11:37.417455Z",
     "shell.execute_reply": "2023-01-23T18:11:37.416176Z",
     "shell.execute_reply.started": "2023-01-23T18:11:37.410761Z"
    }
   },
   "outputs": [],
   "source": [
    "rmse_lr_normal_decision_tree = np.sqrt(mean_squared_error(y_test, previsoes))"
   ]
  },
  {
   "cell_type": "code",
   "execution_count": 67,
   "metadata": {
    "execution": {
     "iopub.execute_input": "2023-01-23T18:11:39.998605Z",
     "iopub.status.busy": "2023-01-23T18:11:39.998175Z",
     "iopub.status.idle": "2023-01-23T18:11:40.005320Z",
     "shell.execute_reply": "2023-01-23T18:11:40.004464Z",
     "shell.execute_reply.started": "2023-01-23T18:11:39.998557Z"
    }
   },
   "outputs": [
    {
     "data": {
      "text/plain": [
       "0.6234326019869076"
      ]
     },
     "execution_count": 67,
     "metadata": {},
     "output_type": "execute_result"
    }
   ],
   "source": [
    "rmse_lr_normal_decision_tree"
   ]
  },
  {
   "cell_type": "code",
   "execution_count": 68,
   "metadata": {
    "execution": {
     "iopub.execute_input": "2023-01-23T17:40:52.872841Z",
     "iopub.status.busy": "2023-01-23T17:40:52.871468Z",
     "iopub.status.idle": "2023-01-23T17:40:52.878653Z",
     "shell.execute_reply": "2023-01-23T17:40:52.877322Z",
     "shell.execute_reply.started": "2023-01-23T17:40:52.872795Z"
    }
   },
   "outputs": [],
   "source": [
    "from sklearn.ensemble import RandomForestRegressor\n",
    "regressor_rf = RandomForestRegressor(n_estimators = 100)"
   ]
  },
  {
   "cell_type": "code",
   "execution_count": 69,
   "metadata": {
    "execution": {
     "iopub.execute_input": "2023-01-23T17:40:53.274770Z",
     "iopub.status.busy": "2023-01-23T17:40:53.274320Z",
     "iopub.status.idle": "2023-01-23T17:40:53.697330Z",
     "shell.execute_reply": "2023-01-23T17:40:53.696163Z",
     "shell.execute_reply.started": "2023-01-23T17:40:53.274734Z"
    }
   },
   "outputs": [
    {
     "name": "stderr",
     "output_type": "stream",
     "text": [
      "C:\\Users\\Sneha\\AppData\\Local\\Temp\\ipykernel_27112\\154324081.py:1: DataConversionWarning: A column-vector y was passed when a 1d array was expected. Please change the shape of y to (n_samples,), for example using ravel().\n",
      "  regressor_rf.fit(X_train, y_train)\n"
     ]
    },
    {
     "data": {
      "text/plain": [
       "RandomForestRegressor()"
      ]
     },
     "execution_count": 69,
     "metadata": {},
     "output_type": "execute_result"
    }
   ],
   "source": [
    "regressor_rf.fit(X_train, y_train)"
   ]
  },
  {
   "cell_type": "code",
   "execution_count": 70,
   "metadata": {
    "execution": {
     "iopub.execute_input": "2023-01-23T17:40:53.755911Z",
     "iopub.status.busy": "2023-01-23T17:40:53.755456Z",
     "iopub.status.idle": "2023-01-23T17:40:53.797142Z",
     "shell.execute_reply": "2023-01-23T17:40:53.795971Z",
     "shell.execute_reply.started": "2023-01-23T17:40:53.755875Z"
    }
   },
   "outputs": [],
   "source": [
    "lr_normal_rf = regressor_rf.score(X_train, y_train)"
   ]
  },
  {
   "cell_type": "code",
   "execution_count": 71,
   "metadata": {
    "execution": {
     "iopub.execute_input": "2023-01-23T17:40:55.125564Z",
     "iopub.status.busy": "2023-01-23T17:40:55.125164Z",
     "iopub.status.idle": "2023-01-23T17:40:55.133003Z",
     "shell.execute_reply": "2023-01-23T17:40:55.131855Z",
     "shell.execute_reply.started": "2023-01-23T17:40:55.125533Z"
    }
   },
   "outputs": [
    {
     "data": {
      "text/plain": [
       "0.95352753535878"
      ]
     },
     "execution_count": 71,
     "metadata": {},
     "output_type": "execute_result"
    }
   ],
   "source": [
    "lr_normal_rf"
   ]
  },
  {
   "cell_type": "code",
   "execution_count": 72,
   "metadata": {
    "execution": {
     "iopub.execute_input": "2023-01-23T17:40:55.980721Z",
     "iopub.status.busy": "2023-01-23T17:40:55.980271Z",
     "iopub.status.idle": "2023-01-23T17:40:56.015273Z",
     "shell.execute_reply": "2023-01-23T17:40:56.014165Z",
     "shell.execute_reply.started": "2023-01-23T17:40:55.980686Z"
    }
   },
   "outputs": [],
   "source": [
    "lr_normal_rf_test = regressor_rf.score(X_test, y_test)"
   ]
  },
  {
   "cell_type": "code",
   "execution_count": 73,
   "metadata": {
    "execution": {
     "iopub.execute_input": "2023-01-23T17:40:56.560904Z",
     "iopub.status.busy": "2023-01-23T17:40:56.560186Z",
     "iopub.status.idle": "2023-01-23T17:40:56.569034Z",
     "shell.execute_reply": "2023-01-23T17:40:56.567570Z",
     "shell.execute_reply.started": "2023-01-23T17:40:56.560866Z"
    }
   },
   "outputs": [
    {
     "data": {
      "text/plain": [
       "0.7258117204731763"
      ]
     },
     "execution_count": 73,
     "metadata": {},
     "output_type": "execute_result"
    }
   ],
   "source": [
    "lr_normal_rf_test"
   ]
  },
  {
   "cell_type": "code",
   "execution_count": 74,
   "metadata": {
    "execution": {
     "iopub.execute_input": "2023-01-23T18:14:24.193992Z",
     "iopub.status.busy": "2023-01-23T18:14:24.193485Z",
     "iopub.status.idle": "2023-01-23T18:14:24.226052Z",
     "shell.execute_reply": "2023-01-23T18:14:24.224723Z",
     "shell.execute_reply.started": "2023-01-23T18:14:24.193956Z"
    }
   },
   "outputs": [],
   "source": [
    "previsoes = regressor_rf.predict(X_test)"
   ]
  },
  {
   "cell_type": "code",
   "execution_count": 75,
   "metadata": {
    "execution": {
     "iopub.execute_input": "2023-01-23T18:14:34.680826Z",
     "iopub.status.busy": "2023-01-23T18:14:34.680415Z",
     "iopub.status.idle": "2023-01-23T18:14:34.687043Z",
     "shell.execute_reply": "2023-01-23T18:14:34.685767Z",
     "shell.execute_reply.started": "2023-01-23T18:14:34.680793Z"
    }
   },
   "outputs": [],
   "source": [
    "mae_lr_normal_rf  = mean_absolute_error(y_test, previsoes)"
   ]
  },
  {
   "cell_type": "code",
   "execution_count": 76,
   "metadata": {
    "execution": {
     "iopub.execute_input": "2023-01-23T18:14:36.379903Z",
     "iopub.status.busy": "2023-01-23T18:14:36.377402Z",
     "iopub.status.idle": "2023-01-23T18:14:36.386971Z",
     "shell.execute_reply": "2023-01-23T18:14:36.385670Z",
     "shell.execute_reply.started": "2023-01-23T18:14:36.379862Z"
    }
   },
   "outputs": [
    {
     "data": {
      "text/plain": [
       "0.3435331392354566"
      ]
     },
     "execution_count": 76,
     "metadata": {},
     "output_type": "execute_result"
    }
   ],
   "source": [
    "mae_lr_normal_rf"
   ]
  },
  {
   "cell_type": "code",
   "execution_count": 77,
   "metadata": {
    "execution": {
     "iopub.execute_input": "2023-01-23T18:14:44.745932Z",
     "iopub.status.busy": "2023-01-23T18:14:44.745492Z",
     "iopub.status.idle": "2023-01-23T18:14:44.752801Z",
     "shell.execute_reply": "2023-01-23T18:14:44.751463Z",
     "shell.execute_reply.started": "2023-01-23T18:14:44.745899Z"
    }
   },
   "outputs": [],
   "source": [
    "rmse_lr_normal_rf = np.sqrt(mean_squared_error(y_test, previsoes))"
   ]
  },
  {
   "cell_type": "code",
   "execution_count": 78,
   "metadata": {
    "execution": {
     "iopub.execute_input": "2023-01-23T18:14:50.210350Z",
     "iopub.status.busy": "2023-01-23T18:14:50.209887Z",
     "iopub.status.idle": "2023-01-23T18:14:50.217148Z",
     "shell.execute_reply": "2023-01-23T18:14:50.216119Z",
     "shell.execute_reply.started": "2023-01-23T18:14:50.210309Z"
    }
   },
   "outputs": [
    {
     "data": {
      "text/plain": [
       "0.533292326917446"
      ]
     },
     "execution_count": 78,
     "metadata": {},
     "output_type": "execute_result"
    }
   ],
   "source": [
    "rmse_lr_normal_rf"
   ]
  },
  {
   "cell_type": "code",
   "execution_count": 79,
   "metadata": {
    "execution": {
     "iopub.execute_input": "2023-01-23T18:16:44.685906Z",
     "iopub.status.busy": "2023-01-23T18:16:44.685459Z",
     "iopub.status.idle": "2023-01-23T18:16:44.693202Z",
     "shell.execute_reply": "2023-01-23T18:16:44.692013Z",
     "shell.execute_reply.started": "2023-01-23T18:16:44.685870Z"
    }
   },
   "outputs": [],
   "source": [
    "columns = df.drop('price', axis = 1).columns"
   ]
  },
  {
   "cell_type": "code",
   "execution_count": 80,
   "metadata": {
    "execution": {
     "iopub.execute_input": "2023-01-23T18:16:49.794736Z",
     "iopub.status.busy": "2023-01-23T18:16:49.794303Z",
     "iopub.status.idle": "2023-01-23T18:16:49.815340Z",
     "shell.execute_reply": "2023-01-23T18:16:49.814186Z",
     "shell.execute_reply.started": "2023-01-23T18:16:49.794703Z"
    }
   },
   "outputs": [],
   "source": [
    "feature_imp_random = pd.Series(regressor_rf.feature_importances_, index = columns).sort_values(ascending = False)"
   ]
  },
  {
   "cell_type": "code",
   "execution_count": 81,
   "metadata": {
    "execution": {
     "iopub.execute_input": "2023-01-23T18:16:53.621165Z",
     "iopub.status.busy": "2023-01-23T18:16:53.620743Z",
     "iopub.status.idle": "2023-01-23T18:16:53.629985Z",
     "shell.execute_reply": "2023-01-23T18:16:53.628671Z",
     "shell.execute_reply.started": "2023-01-23T18:16:53.621132Z"
    }
   },
   "outputs": [
    {
     "data": {
      "text/plain": [
       "size              0.693222\n",
       "zip_code          0.108195\n",
       "lot_size          0.099993\n",
       "baths             0.061184\n",
       "beds              0.033152\n",
       "lot_size_units    0.004253\n",
       "dtype: float64"
      ]
     },
     "execution_count": 81,
     "metadata": {},
     "output_type": "execute_result"
    }
   ],
   "source": [
    "feature_imp_random"
   ]
  },
  {
   "cell_type": "code",
   "execution_count": 82,
   "metadata": {
    "execution": {
     "iopub.execute_input": "2023-01-23T17:42:06.308845Z",
     "iopub.status.busy": "2023-01-23T17:42:06.308424Z",
     "iopub.status.idle": "2023-01-23T17:42:06.315492Z",
     "shell.execute_reply": "2023-01-23T17:42:06.314049Z",
     "shell.execute_reply.started": "2023-01-23T17:42:06.308812Z"
    }
   },
   "outputs": [],
   "source": [
    "from sklearn.ensemble import AdaBoostRegressor"
   ]
  },
  {
   "cell_type": "code",
   "execution_count": 83,
   "metadata": {
    "execution": {
     "iopub.execute_input": "2023-01-23T17:42:07.716925Z",
     "iopub.status.busy": "2023-01-23T17:42:07.716454Z",
     "iopub.status.idle": "2023-01-23T17:42:07.723690Z",
     "shell.execute_reply": "2023-01-23T17:42:07.722414Z",
     "shell.execute_reply.started": "2023-01-23T17:42:07.716886Z"
    }
   },
   "outputs": [],
   "source": [
    "n_estimators = np.array([500])\n",
    "learning_rate = np.array([1.0, 1.1, 0.01, 0.2, 0.3, 0.4])\n",
    "values_grid = {'n_estimators': n_estimators, 'learning_rate': learning_rate}"
   ]
  },
  {
   "cell_type": "code",
   "execution_count": 84,
   "metadata": {
    "execution": {
     "iopub.execute_input": "2023-01-23T17:42:08.103344Z",
     "iopub.status.busy": "2023-01-23T17:42:08.102925Z",
     "iopub.status.idle": "2023-01-23T17:42:08.109314Z",
     "shell.execute_reply": "2023-01-23T17:42:08.107958Z",
     "shell.execute_reply.started": "2023-01-23T17:42:08.103311Z"
    }
   },
   "outputs": [],
   "source": [
    "model = AdaBoostRegressor()"
   ]
  },
  {
   "cell_type": "code",
   "execution_count": 85,
   "metadata": {
    "execution": {
     "iopub.execute_input": "2023-01-23T17:42:08.841097Z",
     "iopub.status.busy": "2023-01-23T17:42:08.840669Z",
     "iopub.status.idle": "2023-01-23T17:42:08.847235Z",
     "shell.execute_reply": "2023-01-23T17:42:08.845793Z",
     "shell.execute_reply.started": "2023-01-23T17:42:08.841062Z"
    }
   },
   "outputs": [],
   "source": [
    "gridAdaBoost = GridSearchCV(estimator = model, param_grid = values_grid, cv = 5, n_jobs = 1)"
   ]
  },
  {
   "cell_type": "code",
   "execution_count": 86,
   "metadata": {
    "execution": {
     "iopub.execute_input": "2023-01-23T17:42:09.368228Z",
     "iopub.status.busy": "2023-01-23T17:42:09.367780Z",
     "iopub.status.idle": "2023-01-23T17:42:23.964081Z",
     "shell.execute_reply": "2023-01-23T17:42:23.962898Z",
     "shell.execute_reply.started": "2023-01-23T17:42:09.368191Z"
    }
   },
   "outputs": [
    {
     "data": {
      "text/plain": [
       "GridSearchCV(cv=5, estimator=AdaBoostRegressor(), n_jobs=1,\n",
       "             param_grid={'learning_rate': array([1.  , 1.1 , 0.01, 0.2 , 0.3 , 0.4 ]),\n",
       "                         'n_estimators': array([500])})"
      ]
     },
     "execution_count": 86,
     "metadata": {},
     "output_type": "execute_result"
    }
   ],
   "source": [
    "gridAdaBoost.fit(X_train, y_train.ravel())"
   ]
  },
  {
   "cell_type": "code",
   "execution_count": 87,
   "metadata": {
    "execution": {
     "iopub.execute_input": "2023-01-23T17:43:08.261318Z",
     "iopub.status.busy": "2023-01-23T17:43:08.260818Z",
     "iopub.status.idle": "2023-01-23T17:43:08.268739Z",
     "shell.execute_reply": "2023-01-23T17:43:08.267064Z",
     "shell.execute_reply.started": "2023-01-23T17:43:08.261282Z"
    }
   },
   "outputs": [
    {
     "name": "stdout",
     "output_type": "stream",
     "text": [
      "Learning Rate:  0.01\n",
      "Score:  0.5396850597214775\n"
     ]
    }
   ],
   "source": [
    "print('Learning Rate: ', gridAdaBoost.best_estimator_.learning_rate)\n",
    "print('Score: ', gridAdaBoost.best_score_)"
   ]
  },
  {
   "cell_type": "code",
   "execution_count": 88,
   "metadata": {
    "execution": {
     "iopub.execute_input": "2023-01-23T18:32:15.209087Z",
     "iopub.status.busy": "2023-01-23T18:32:15.208638Z",
     "iopub.status.idle": "2023-01-23T18:32:15.215121Z",
     "shell.execute_reply": "2023-01-23T18:32:15.213793Z",
     "shell.execute_reply.started": "2023-01-23T18:32:15.209052Z"
    }
   },
   "outputs": [],
   "source": [
    "ada_boost = AdaBoostRegressor(learning_rate = 0.01, n_estimators = 500)"
   ]
  },
  {
   "cell_type": "code",
   "execution_count": 89,
   "metadata": {
    "execution": {
     "iopub.execute_input": "2023-01-23T18:32:20.666756Z",
     "iopub.status.busy": "2023-01-23T18:32:20.665737Z",
     "iopub.status.idle": "2023-01-23T18:32:21.926489Z",
     "shell.execute_reply": "2023-01-23T18:32:21.925380Z",
     "shell.execute_reply.started": "2023-01-23T18:32:20.666693Z"
    }
   },
   "outputs": [
    {
     "data": {
      "text/plain": [
       "AdaBoostRegressor(learning_rate=0.01, n_estimators=500)"
      ]
     },
     "execution_count": 89,
     "metadata": {},
     "output_type": "execute_result"
    }
   ],
   "source": [
    "ada_boost.fit(X_train, y_train.ravel())"
   ]
  },
  {
   "cell_type": "code",
   "execution_count": 90,
   "metadata": {
    "execution": {
     "iopub.execute_input": "2023-01-23T18:32:36.221310Z",
     "iopub.status.busy": "2023-01-23T18:32:36.220869Z",
     "iopub.status.idle": "2023-01-23T18:32:36.331937Z",
     "shell.execute_reply": "2023-01-23T18:32:36.330098Z",
     "shell.execute_reply.started": "2023-01-23T18:32:36.221274Z"
    }
   },
   "outputs": [],
   "source": [
    "lr_normal_ada_boost = ada_boost.score(X_train, y_train)"
   ]
  },
  {
   "cell_type": "code",
   "execution_count": 91,
   "metadata": {
    "execution": {
     "iopub.execute_input": "2023-01-23T18:32:39.645944Z",
     "iopub.status.busy": "2023-01-23T18:32:39.645489Z",
     "iopub.status.idle": "2023-01-23T18:32:39.652292Z",
     "shell.execute_reply": "2023-01-23T18:32:39.651322Z",
     "shell.execute_reply.started": "2023-01-23T18:32:39.645908Z"
    }
   },
   "outputs": [
    {
     "data": {
      "text/plain": [
       "0.6457373004939028"
      ]
     },
     "execution_count": 91,
     "metadata": {},
     "output_type": "execute_result"
    }
   ],
   "source": [
    "lr_normal_ada_boost"
   ]
  },
  {
   "cell_type": "code",
   "execution_count": 92,
   "metadata": {
    "execution": {
     "iopub.execute_input": "2023-01-23T18:32:48.652720Z",
     "iopub.status.busy": "2023-01-23T18:32:48.652016Z",
     "iopub.status.idle": "2023-01-23T18:32:48.720621Z",
     "shell.execute_reply": "2023-01-23T18:32:48.719406Z",
     "shell.execute_reply.started": "2023-01-23T18:32:48.652667Z"
    }
   },
   "outputs": [],
   "source": [
    "lr_normal_ada_boost_test = ada_boost.score(X_test, y_test)"
   ]
  },
  {
   "cell_type": "code",
   "execution_count": 93,
   "metadata": {
    "execution": {
     "iopub.execute_input": "2023-01-23T18:32:50.830929Z",
     "iopub.status.busy": "2023-01-23T18:32:50.830483Z",
     "iopub.status.idle": "2023-01-23T18:32:50.837868Z",
     "shell.execute_reply": "2023-01-23T18:32:50.836667Z",
     "shell.execute_reply.started": "2023-01-23T18:32:50.830896Z"
    }
   },
   "outputs": [
    {
     "data": {
      "text/plain": [
       "0.6193356509030934"
      ]
     },
     "execution_count": 93,
     "metadata": {},
     "output_type": "execute_result"
    }
   ],
   "source": [
    "lr_normal_ada_boost_test"
   ]
  },
  {
   "cell_type": "code",
   "execution_count": 94,
   "metadata": {
    "execution": {
     "iopub.execute_input": "2023-01-23T18:34:03.740310Z",
     "iopub.status.busy": "2023-01-23T18:34:03.739873Z",
     "iopub.status.idle": "2023-01-23T18:34:03.808825Z",
     "shell.execute_reply": "2023-01-23T18:34:03.807665Z",
     "shell.execute_reply.started": "2023-01-23T18:34:03.740278Z"
    }
   },
   "outputs": [],
   "source": [
    "previsoes = ada_boost.predict(X_test)"
   ]
  },
  {
   "cell_type": "code",
   "execution_count": 95,
   "metadata": {
    "execution": {
     "iopub.execute_input": "2023-01-23T18:34:12.610782Z",
     "iopub.status.busy": "2023-01-23T18:34:12.610311Z",
     "iopub.status.idle": "2023-01-23T18:34:12.616798Z",
     "shell.execute_reply": "2023-01-23T18:34:12.615975Z",
     "shell.execute_reply.started": "2023-01-23T18:34:12.610744Z"
    }
   },
   "outputs": [],
   "source": [
    "y_test_inverse = scaler.inverse_transform(y_test)\n",
    "previsoes_inverse = scaler.inverse_transform(previsoes.reshape(-1,1))"
   ]
  },
  {
   "cell_type": "code",
   "execution_count": 96,
   "metadata": {
    "execution": {
     "iopub.execute_input": "2023-01-23T18:34:23.547422Z",
     "iopub.status.busy": "2023-01-23T18:34:23.546173Z",
     "iopub.status.idle": "2023-01-23T18:34:23.553209Z",
     "shell.execute_reply": "2023-01-23T18:34:23.552314Z",
     "shell.execute_reply.started": "2023-01-23T18:34:23.547370Z"
    }
   },
   "outputs": [],
   "source": [
    "mae_lr_normal_ada_boost  = mean_absolute_error(y_test_inverse, previsoes_inverse)"
   ]
  },
  {
   "cell_type": "code",
   "execution_count": 97,
   "metadata": {
    "execution": {
     "iopub.execute_input": "2023-01-23T18:34:25.558600Z",
     "iopub.status.busy": "2023-01-23T18:34:25.557731Z",
     "iopub.status.idle": "2023-01-23T18:34:25.566240Z",
     "shell.execute_reply": "2023-01-23T18:34:25.565152Z",
     "shell.execute_reply.started": "2023-01-23T18:34:25.558542Z"
    }
   },
   "outputs": [
    {
     "data": {
      "text/plain": [
       "235777.59803474732"
      ]
     },
     "execution_count": 97,
     "metadata": {},
     "output_type": "execute_result"
    }
   ],
   "source": [
    "mae_lr_normal_ada_boost"
   ]
  },
  {
   "cell_type": "code",
   "execution_count": 98,
   "metadata": {
    "execution": {
     "iopub.execute_input": "2023-01-23T18:34:38.529037Z",
     "iopub.status.busy": "2023-01-23T18:34:38.528531Z",
     "iopub.status.idle": "2023-01-23T18:34:38.534568Z",
     "shell.execute_reply": "2023-01-23T18:34:38.533661Z",
     "shell.execute_reply.started": "2023-01-23T18:34:38.529000Z"
    }
   },
   "outputs": [],
   "source": [
    "rmse_ada_boost = np.sqrt(mean_squared_error(y_test_inverse, previsoes_inverse))"
   ]
  },
  {
   "cell_type": "code",
   "execution_count": 99,
   "metadata": {
    "execution": {
     "iopub.execute_input": "2023-01-23T18:34:44.588811Z",
     "iopub.status.busy": "2023-01-23T18:34:44.587890Z",
     "iopub.status.idle": "2023-01-23T18:34:44.596473Z",
     "shell.execute_reply": "2023-01-23T18:34:44.595384Z",
     "shell.execute_reply.started": "2023-01-23T18:34:44.588776Z"
    }
   },
   "outputs": [
    {
     "data": {
      "text/plain": [
       "335546.7865186919"
      ]
     },
     "execution_count": 99,
     "metadata": {},
     "output_type": "execute_result"
    }
   ],
   "source": [
    "rmse_ada_boost"
   ]
  },
  {
   "cell_type": "code",
   "execution_count": 100,
   "metadata": {
    "execution": {
     "iopub.execute_input": "2023-01-23T17:43:09.526615Z",
     "iopub.status.busy": "2023-01-23T17:43:09.525935Z",
     "iopub.status.idle": "2023-01-23T17:43:09.531283Z",
     "shell.execute_reply": "2023-01-23T17:43:09.530427Z",
     "shell.execute_reply.started": "2023-01-23T17:43:09.526555Z"
    }
   },
   "outputs": [],
   "source": [
    "from sklearn.ensemble import GradientBoostingRegressor"
   ]
  },
  {
   "cell_type": "code",
   "execution_count": 101,
   "metadata": {
    "execution": {
     "iopub.execute_input": "2023-01-23T17:43:10.376309Z",
     "iopub.status.busy": "2023-01-23T17:43:10.375604Z",
     "iopub.status.idle": "2023-01-23T17:43:10.383175Z",
     "shell.execute_reply": "2023-01-23T17:43:10.382013Z",
     "shell.execute_reply.started": "2023-01-23T17:43:10.376257Z"
    }
   },
   "outputs": [],
   "source": [
    "n_estimators = np.array([500])\n",
    "learning_rate = np.array([1.0, 1.1, 1.5, 1.7, 0.5, 0.4])\n",
    "criterion = np.array(['friedman_mse', 'squared_error'])\n",
    "values_grid = {'n_estimators': n_estimators, 'learning_rate': learning_rate, 'criterion': criterion}"
   ]
  },
  {
   "cell_type": "code",
   "execution_count": 102,
   "metadata": {
    "execution": {
     "iopub.execute_input": "2023-01-23T17:43:11.151248Z",
     "iopub.status.busy": "2023-01-23T17:43:11.150256Z",
     "iopub.status.idle": "2023-01-23T17:43:11.156346Z",
     "shell.execute_reply": "2023-01-23T17:43:11.154978Z",
     "shell.execute_reply.started": "2023-01-23T17:43:11.151209Z"
    }
   },
   "outputs": [],
   "source": [
    "model = GradientBoostingRegressor()"
   ]
  },
  {
   "cell_type": "code",
   "execution_count": 103,
   "metadata": {
    "execution": {
     "iopub.execute_input": "2023-01-23T17:43:11.528917Z",
     "iopub.status.busy": "2023-01-23T17:43:11.528463Z",
     "iopub.status.idle": "2023-01-23T17:43:11.534309Z",
     "shell.execute_reply": "2023-01-23T17:43:11.533404Z",
     "shell.execute_reply.started": "2023-01-23T17:43:11.528883Z"
    }
   },
   "outputs": [],
   "source": [
    "gridGradientBoost = GridSearchCV(estimator = model, param_grid = values_grid, cv = 5, n_jobs = 1)"
   ]
  },
  {
   "cell_type": "code",
   "execution_count": 104,
   "metadata": {
    "execution": {
     "iopub.execute_input": "2023-01-23T17:43:12.374416Z",
     "iopub.status.busy": "2023-01-23T17:43:12.373779Z",
     "iopub.status.idle": "2023-01-23T17:43:46.488839Z",
     "shell.execute_reply": "2023-01-23T17:43:46.487416Z",
     "shell.execute_reply.started": "2023-01-23T17:43:12.374378Z"
    }
   },
   "outputs": [
    {
     "data": {
      "text/plain": [
       "GridSearchCV(cv=5, estimator=GradientBoostingRegressor(), n_jobs=1,\n",
       "             param_grid={'criterion': array(['friedman_mse', 'squared_error'], dtype='<U13'),\n",
       "                         'learning_rate': array([1. , 1.1, 1.5, 1.7, 0.5, 0.4]),\n",
       "                         'n_estimators': array([500])})"
      ]
     },
     "execution_count": 104,
     "metadata": {},
     "output_type": "execute_result"
    }
   ],
   "source": [
    "gridGradientBoost.fit(X_train, y_train.ravel())"
   ]
  },
  {
   "cell_type": "code",
   "execution_count": 105,
   "metadata": {
    "execution": {
     "iopub.execute_input": "2023-01-23T17:43:46.491473Z",
     "iopub.status.busy": "2023-01-23T17:43:46.491011Z",
     "iopub.status.idle": "2023-01-23T17:43:46.498281Z",
     "shell.execute_reply": "2023-01-23T17:43:46.496953Z",
     "shell.execute_reply.started": "2023-01-23T17:43:46.491439Z"
    }
   },
   "outputs": [
    {
     "name": "stdout",
     "output_type": "stream",
     "text": [
      "Learning Rate:  0.4\n",
      "Criterion:  friedman_mse\n",
      "Score:  0.568732420258222\n"
     ]
    }
   ],
   "source": [
    "print('Learning Rate: ', gridGradientBoost.best_estimator_.learning_rate)\n",
    "print('Criterion: ', gridGradientBoost.best_estimator_.criterion)\n",
    "print('Score: ', gridGradientBoost.best_score_)"
   ]
  },
  {
   "cell_type": "code",
   "execution_count": 106,
   "metadata": {
    "execution": {
     "iopub.execute_input": "2023-01-23T18:36:04.349664Z",
     "iopub.status.busy": "2023-01-23T18:36:04.349153Z",
     "iopub.status.idle": "2023-01-23T18:36:04.355975Z",
     "shell.execute_reply": "2023-01-23T18:36:04.354610Z",
     "shell.execute_reply.started": "2023-01-23T18:36:04.349619Z"
    }
   },
   "outputs": [],
   "source": [
    "grad_boost = GradientBoostingRegressor(learning_rate = 0.4, n_estimators = 500, criterion = 'friedman_mse')"
   ]
  },
  {
   "cell_type": "code",
   "execution_count": 107,
   "metadata": {
    "execution": {
     "iopub.execute_input": "2023-01-23T18:36:14.508770Z",
     "iopub.status.busy": "2023-01-23T18:36:14.508348Z",
     "iopub.status.idle": "2023-01-23T18:36:15.155845Z",
     "shell.execute_reply": "2023-01-23T18:36:15.154703Z",
     "shell.execute_reply.started": "2023-01-23T18:36:14.508737Z"
    }
   },
   "outputs": [
    {
     "data": {
      "text/plain": [
       "GradientBoostingRegressor(learning_rate=0.4, n_estimators=500)"
      ]
     },
     "execution_count": 107,
     "metadata": {},
     "output_type": "execute_result"
    }
   ],
   "source": [
    "grad_boost.fit(X_train, y_train.ravel())"
   ]
  },
  {
   "cell_type": "code",
   "execution_count": 108,
   "metadata": {
    "execution": {
     "iopub.execute_input": "2023-01-23T18:36:22.955704Z",
     "iopub.status.busy": "2023-01-23T18:36:22.954422Z",
     "iopub.status.idle": "2023-01-23T18:36:22.969213Z",
     "shell.execute_reply": "2023-01-23T18:36:22.968094Z",
     "shell.execute_reply.started": "2023-01-23T18:36:22.955563Z"
    }
   },
   "outputs": [],
   "source": [
    "lr_normal_grad_boost = grad_boost.score(X_train, y_train)"
   ]
  },
  {
   "cell_type": "code",
   "execution_count": 109,
   "metadata": {
    "execution": {
     "iopub.execute_input": "2023-01-23T18:36:27.218560Z",
     "iopub.status.busy": "2023-01-23T18:36:27.217801Z",
     "iopub.status.idle": "2023-01-23T18:36:27.224891Z",
     "shell.execute_reply": "2023-01-23T18:36:27.223771Z",
     "shell.execute_reply.started": "2023-01-23T18:36:27.218520Z"
    }
   },
   "outputs": [
    {
     "data": {
      "text/plain": [
       "0.9948582838269058"
      ]
     },
     "execution_count": 109,
     "metadata": {},
     "output_type": "execute_result"
    }
   ],
   "source": [
    "lr_normal_grad_boost"
   ]
  },
  {
   "cell_type": "code",
   "execution_count": 110,
   "metadata": {
    "execution": {
     "iopub.execute_input": "2023-01-23T18:36:40.518365Z",
     "iopub.status.busy": "2023-01-23T18:36:40.517948Z",
     "iopub.status.idle": "2023-01-23T18:36:40.528404Z",
     "shell.execute_reply": "2023-01-23T18:36:40.527092Z",
     "shell.execute_reply.started": "2023-01-23T18:36:40.518333Z"
    }
   },
   "outputs": [],
   "source": [
    "lr_normal_grad_boost_test = grad_boost.score(X_test, y_test)"
   ]
  },
  {
   "cell_type": "code",
   "execution_count": 111,
   "metadata": {
    "execution": {
     "iopub.execute_input": "2023-01-23T18:36:45.846953Z",
     "iopub.status.busy": "2023-01-23T18:36:45.846471Z",
     "iopub.status.idle": "2023-01-23T18:36:45.853994Z",
     "shell.execute_reply": "2023-01-23T18:36:45.852880Z",
     "shell.execute_reply.started": "2023-01-23T18:36:45.846915Z"
    }
   },
   "outputs": [
    {
     "data": {
      "text/plain": [
       "0.6792364460481242"
      ]
     },
     "execution_count": 111,
     "metadata": {},
     "output_type": "execute_result"
    }
   ],
   "source": [
    "lr_normal_grad_boost_test"
   ]
  },
  {
   "cell_type": "code",
   "execution_count": 112,
   "metadata": {
    "execution": {
     "iopub.execute_input": "2023-01-23T18:37:06.769616Z",
     "iopub.status.busy": "2023-01-23T18:37:06.768829Z",
     "iopub.status.idle": "2023-01-23T18:37:06.778747Z",
     "shell.execute_reply": "2023-01-23T18:37:06.777571Z",
     "shell.execute_reply.started": "2023-01-23T18:37:06.769561Z"
    }
   },
   "outputs": [],
   "source": [
    "previsoes = grad_boost.predict(X_test)"
   ]
  },
  {
   "cell_type": "code",
   "execution_count": 113,
   "metadata": {
    "execution": {
     "iopub.execute_input": "2023-01-23T18:37:15.708950Z",
     "iopub.status.busy": "2023-01-23T18:37:15.708136Z",
     "iopub.status.idle": "2023-01-23T18:37:15.714794Z",
     "shell.execute_reply": "2023-01-23T18:37:15.713204Z",
     "shell.execute_reply.started": "2023-01-23T18:37:15.708912Z"
    }
   },
   "outputs": [],
   "source": [
    "y_test_inverse = scaler.inverse_transform(y_test)\n",
    "previsoes_inverse = scaler.inverse_transform(previsoes.reshape(-1,1))"
   ]
  },
  {
   "cell_type": "code",
   "execution_count": 114,
   "metadata": {
    "execution": {
     "iopub.execute_input": "2023-01-23T18:37:24.948963Z",
     "iopub.status.busy": "2023-01-23T18:37:24.948500Z",
     "iopub.status.idle": "2023-01-23T18:37:24.955049Z",
     "shell.execute_reply": "2023-01-23T18:37:24.953809Z",
     "shell.execute_reply.started": "2023-01-23T18:37:24.948928Z"
    }
   },
   "outputs": [],
   "source": [
    "mae_lr_normal_grad_boost  = mean_absolute_error(y_test_inverse, previsoes_inverse)"
   ]
  },
  {
   "cell_type": "code",
   "execution_count": 115,
   "metadata": {
    "execution": {
     "iopub.execute_input": "2023-01-23T18:37:31.759053Z",
     "iopub.status.busy": "2023-01-23T18:37:31.758641Z",
     "iopub.status.idle": "2023-01-23T18:37:31.767433Z",
     "shell.execute_reply": "2023-01-23T18:37:31.766488Z",
     "shell.execute_reply.started": "2023-01-23T18:37:31.759013Z"
    }
   },
   "outputs": [
    {
     "data": {
      "text/plain": [
       "194828.84367698684"
      ]
     },
     "execution_count": 115,
     "metadata": {},
     "output_type": "execute_result"
    }
   ],
   "source": [
    "mae_lr_normal_grad_boost"
   ]
  },
  {
   "cell_type": "code",
   "execution_count": 116,
   "metadata": {
    "execution": {
     "iopub.execute_input": "2023-01-23T18:37:45.939632Z",
     "iopub.status.busy": "2023-01-23T18:37:45.938809Z",
     "iopub.status.idle": "2023-01-23T18:37:45.946098Z",
     "shell.execute_reply": "2023-01-23T18:37:45.945099Z",
     "shell.execute_reply.started": "2023-01-23T18:37:45.939566Z"
    }
   },
   "outputs": [],
   "source": [
    "rmse_grad_boost = np.sqrt(mean_squared_error(y_test_inverse, previsoes_inverse))"
   ]
  },
  {
   "cell_type": "code",
   "execution_count": 117,
   "metadata": {
    "execution": {
     "iopub.execute_input": "2023-01-23T18:37:48.728097Z",
     "iopub.status.busy": "2023-01-23T18:37:48.727267Z",
     "iopub.status.idle": "2023-01-23T18:37:48.735704Z",
     "shell.execute_reply": "2023-01-23T18:37:48.734744Z",
     "shell.execute_reply.started": "2023-01-23T18:37:48.728051Z"
    }
   },
   "outputs": [
    {
     "data": {
      "text/plain": [
       "308016.86037725833"
      ]
     },
     "execution_count": 117,
     "metadata": {},
     "output_type": "execute_result"
    }
   ],
   "source": [
    "rmse_grad_boost"
   ]
  },
  {
   "cell_type": "code",
   "execution_count": 118,
   "metadata": {
    "_kg_hide-input": true,
    "execution": {
     "iopub.execute_input": "2023-01-23T18:42:17.460294Z",
     "iopub.status.busy": "2023-01-23T18:42:17.459839Z",
     "iopub.status.idle": "2023-01-23T18:42:17.491527Z",
     "shell.execute_reply": "2023-01-23T18:42:17.489905Z",
     "shell.execute_reply.started": "2023-01-23T18:42:17.460260Z"
    }
   },
   "outputs": [],
   "source": [
    "from sklearn.feature_selection import SelectKBest\n",
    "from sklearn.feature_selection import chi2\n",
    "\n",
    "features = X\n",
    "target = y\n",
    "\n",
    "best_features = SelectKBest(score_func = chi2,k = 'all')\n",
    "fit = best_features.fit(features,target)\n",
    "\n",
    "featureScores = pd.DataFrame(data = fit.scores_,index = list(columns),columns = ['Chi Squared Score']) "
   ]
  },
  {
   "cell_type": "code",
   "execution_count": 119,
   "metadata": {
    "execution": {
     "iopub.execute_input": "2023-01-23T18:42:45.240152Z",
     "iopub.status.busy": "2023-01-23T18:42:45.239733Z",
     "iopub.status.idle": "2023-01-23T18:42:45.252310Z",
     "shell.execute_reply": "2023-01-23T18:42:45.251272Z",
     "shell.execute_reply.started": "2023-01-23T18:42:45.240120Z"
    }
   },
   "outputs": [
    {
     "data": {
      "text/html": [
       "<div>\n",
       "<style scoped>\n",
       "    .dataframe tbody tr th:only-of-type {\n",
       "        vertical-align: middle;\n",
       "    }\n",
       "\n",
       "    .dataframe tbody tr th {\n",
       "        vertical-align: top;\n",
       "    }\n",
       "\n",
       "    .dataframe thead th {\n",
       "        text-align: right;\n",
       "    }\n",
       "</style>\n",
       "<table border=\"1\" class=\"dataframe\">\n",
       "  <thead>\n",
       "    <tr style=\"text-align: right;\">\n",
       "      <th></th>\n",
       "      <th>Chi Squared Score</th>\n",
       "    </tr>\n",
       "  </thead>\n",
       "  <tbody>\n",
       "    <tr>\n",
       "      <th>lot_size</th>\n",
       "      <td>1411806.33</td>\n",
       "    </tr>\n",
       "    <tr>\n",
       "      <th>size</th>\n",
       "      <td>525479.46</td>\n",
       "    </tr>\n",
       "    <tr>\n",
       "      <th>zip_code</th>\n",
       "      <td>2853.45</td>\n",
       "    </tr>\n",
       "    <tr>\n",
       "      <th>baths</th>\n",
       "      <td>419.19</td>\n",
       "    </tr>\n",
       "    <tr>\n",
       "      <th>beds</th>\n",
       "      <td>387.12</td>\n",
       "    </tr>\n",
       "    <tr>\n",
       "      <th>lot_size_units</th>\n",
       "      <td>120.90</td>\n",
       "    </tr>\n",
       "  </tbody>\n",
       "</table>\n",
       "</div>"
      ],
      "text/plain": [
       "                Chi Squared Score\n",
       "lot_size               1411806.33\n",
       "size                    525479.46\n",
       "zip_code                  2853.45\n",
       "baths                      419.19\n",
       "beds                       387.12\n",
       "lot_size_units             120.90"
      ]
     },
     "execution_count": 119,
     "metadata": {},
     "output_type": "execute_result"
    }
   ],
   "source": [
    "featureScores.sort_values(by = 'Chi Squared Score', ascending = False).round(2)"
   ]
  },
  {
   "cell_type": "code",
   "execution_count": 120,
   "metadata": {
    "execution": {
     "iopub.execute_input": "2023-01-23T18:43:04.388709Z",
     "iopub.status.busy": "2023-01-23T18:43:04.388255Z",
     "iopub.status.idle": "2023-01-23T18:43:04.397908Z",
     "shell.execute_reply": "2023-01-23T18:43:04.396685Z",
     "shell.execute_reply.started": "2023-01-23T18:43:04.388654Z"
    }
   },
   "outputs": [
    {
     "data": {
      "text/plain": [
       "size              0.693222\n",
       "zip_code          0.108195\n",
       "lot_size          0.099993\n",
       "baths             0.061184\n",
       "beds              0.033152\n",
       "lot_size_units    0.004253\n",
       "dtype: float64"
      ]
     },
     "execution_count": 120,
     "metadata": {},
     "output_type": "execute_result"
    }
   ],
   "source": [
    "feature_imp_random"
   ]
  },
  {
   "cell_type": "markdown",
   "metadata": {},
   "source": [
    "#### Modelling Results"
   ]
  },
  {
   "cell_type": "code",
   "execution_count": 122,
   "metadata": {
    "_kg_hide-input": true,
    "execution": {
     "iopub.execute_input": "2023-01-23T18:45:04.050473Z",
     "iopub.status.busy": "2023-01-23T18:45:04.050005Z",
     "iopub.status.idle": "2023-01-23T18:45:04.063701Z",
     "shell.execute_reply": "2023-01-23T18:45:04.062020Z",
     "shell.execute_reply.started": "2023-01-23T18:45:04.050433Z"
    }
   },
   "outputs": [],
   "source": [
    "linear_regression = {'Model':'Linear Regression',\n",
    "               'Score Train':lr_normal_score_train,\n",
    "               'Score Test':lr_normal_score_test,\n",
    "               'MSE':mae_lr_normal,\n",
    "               'RMSE':rmse_lr_normal,}\n",
    "\n",
    "\n",
    "decision_tree = {'Model':'Decision Tree',\n",
    "               'Score Train':lr_normal_decision_tree,\n",
    "               'Score Test':lr_normal_decision_tree_test,\n",
    "               'MSE':mae_lr_normal_decision_tree,\n",
    "               'RMSE':rmse_lr_normal_decision_tree,}\n",
    "\n",
    "random_forest = {'Model':'Random Forest',\n",
    "               'Score Train':lr_normal_rf,\n",
    "               'Score Test':lr_normal_rf_test,\n",
    "               'MSE':mae_lr_normal_rf,\n",
    "               'RMSE':rmse_lr_normal_rf,}\n",
    "\n",
    "ada = {'Model':'Ada Boost',\n",
    "               'Score Train':lr_normal_ada_boost,\n",
    "               'Score Test':lr_normal_ada_boost_test,\n",
    "               'MSE':mae_lr_normal_ada_boost,\n",
    "               'RMSE':rmse_ada_boost,}\n",
    "\n",
    "grad = {'Model':'Gradient Boosting',\n",
    "               'Score Train':lr_normal_grad_boost,\n",
    "               'Score Test':lr_normal_grad_boost_test,\n",
    "               'MSE':mae_lr_normal_grad_boost,\n",
    "               'RMSE':rmse_grad_boost,}"
   ]
  },
  {
   "cell_type": "code",
   "execution_count": 123,
   "metadata": {
    "_kg_hide-input": true,
    "execution": {
     "iopub.execute_input": "2023-01-23T18:45:24.138402Z",
     "iopub.status.busy": "2023-01-23T18:45:24.138006Z",
     "iopub.status.idle": "2023-01-23T18:45:24.149623Z",
     "shell.execute_reply": "2023-01-23T18:45:24.148322Z",
     "shell.execute_reply.started": "2023-01-23T18:45:24.138370Z"
    }
   },
   "outputs": [],
   "source": [
    "resume = pd.DataFrame({'Linear Regression':pd.Series(linear_regression),\n",
    "                      \n",
    "                       'Decision Tree':pd.Series(decision_tree),\n",
    "                       'Random Forest':pd.Series(random_forest),\n",
    "                       \n",
    "                       'AdaBoost':pd.Series(ada),\n",
    "                       'GradientBoosting':pd.Series(grad),\n",
    "                      })"
   ]
  },
  {
   "cell_type": "code",
   "execution_count": 124,
   "metadata": {
    "execution": {
     "iopub.execute_input": "2023-01-23T18:46:29.451958Z",
     "iopub.status.busy": "2023-01-23T18:46:29.451526Z",
     "iopub.status.idle": "2023-01-23T18:46:29.471199Z",
     "shell.execute_reply": "2023-01-23T18:46:29.470169Z",
     "shell.execute_reply.started": "2023-01-23T18:46:29.451926Z"
    }
   },
   "outputs": [
    {
     "data": {
      "text/html": [
       "<div>\n",
       "<style scoped>\n",
       "    .dataframe tbody tr th:only-of-type {\n",
       "        vertical-align: middle;\n",
       "    }\n",
       "\n",
       "    .dataframe tbody tr th {\n",
       "        vertical-align: top;\n",
       "    }\n",
       "\n",
       "    .dataframe thead th {\n",
       "        text-align: right;\n",
       "    }\n",
       "</style>\n",
       "<table border=\"1\" class=\"dataframe\">\n",
       "  <thead>\n",
       "    <tr style=\"text-align: right;\">\n",
       "      <th></th>\n",
       "      <th>Linear Regression</th>\n",
       "      <th>Decision Tree</th>\n",
       "      <th>Random Forest</th>\n",
       "      <th>AdaBoost</th>\n",
       "      <th>GradientBoosting</th>\n",
       "    </tr>\n",
       "  </thead>\n",
       "  <tbody>\n",
       "    <tr>\n",
       "      <th>Model</th>\n",
       "      <td>Linear Regression</td>\n",
       "      <td>Decision Tree</td>\n",
       "      <td>Random Forest</td>\n",
       "      <td>Ada Boost</td>\n",
       "      <td>Gradient Boosting</td>\n",
       "    </tr>\n",
       "    <tr>\n",
       "      <th>Score Train</th>\n",
       "      <td>0.600335</td>\n",
       "      <td>0.677398</td>\n",
       "      <td>0.953528</td>\n",
       "      <td>0.645737</td>\n",
       "      <td>0.994858</td>\n",
       "    </tr>\n",
       "    <tr>\n",
       "      <th>Score Test</th>\n",
       "      <td>0.643186</td>\n",
       "      <td>0.625288</td>\n",
       "      <td>0.725812</td>\n",
       "      <td>0.619336</td>\n",
       "      <td>0.679236</td>\n",
       "    </tr>\n",
       "    <tr>\n",
       "      <th>MSE</th>\n",
       "      <td>0.402069</td>\n",
       "      <td>0.396472</td>\n",
       "      <td>0.343533</td>\n",
       "      <td>235777.598035</td>\n",
       "      <td>194828.843677</td>\n",
       "    </tr>\n",
       "    <tr>\n",
       "      <th>RMSE</th>\n",
       "      <td>0.608362</td>\n",
       "      <td>0.623433</td>\n",
       "      <td>0.533292</td>\n",
       "      <td>335546.786519</td>\n",
       "      <td>308016.860377</td>\n",
       "    </tr>\n",
       "  </tbody>\n",
       "</table>\n",
       "</div>"
      ],
      "text/plain": [
       "             Linear Regression  Decision Tree  Random Forest       AdaBoost  \\\n",
       "Model        Linear Regression  Decision Tree  Random Forest      Ada Boost   \n",
       "Score Train           0.600335       0.677398       0.953528       0.645737   \n",
       "Score Test            0.643186       0.625288       0.725812       0.619336   \n",
       "MSE                   0.402069       0.396472       0.343533  235777.598035   \n",
       "RMSE                  0.608362       0.623433       0.533292  335546.786519   \n",
       "\n",
       "              GradientBoosting  \n",
       "Model        Gradient Boosting  \n",
       "Score Train           0.994858  \n",
       "Score Test            0.679236  \n",
       "MSE              194828.843677  \n",
       "RMSE             308016.860377  "
      ]
     },
     "execution_count": 124,
     "metadata": {},
     "output_type": "execute_result"
    }
   ],
   "source": [
    "resume"
   ]
  }
 ],
 "metadata": {
  "kernelspec": {
   "display_name": "Python 3 (ipykernel)",
   "language": "python",
   "name": "python3"
  },
  "language_info": {
   "codemirror_mode": {
    "name": "ipython",
    "version": 3
   },
   "file_extension": ".py",
   "mimetype": "text/x-python",
   "name": "python",
   "nbconvert_exporter": "python",
   "pygments_lexer": "ipython3",
   "version": "3.9.12"
  }
 },
 "nbformat": 4,
 "nbformat_minor": 4
}
